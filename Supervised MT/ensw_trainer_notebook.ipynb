{
  "nbformat": 4,
  "nbformat_minor": 0,
  "metadata": {
    "colab": {
      "name": "ensw_trainer_notebook.ipynb",
      "provenance": []
    },
    "kernelspec": {
      "display_name": "Python 3",
      "language": "python",
      "name": "python3"
    },
    "language_info": {
      "codemirror_mode": {
        "name": "ipython",
        "version": 3
      },
      "file_extension": ".py",
      "mimetype": "text/x-python",
      "name": "python",
      "nbconvert_exporter": "python",
      "pygments_lexer": "ipython3",
      "version": "3.6.10"
    }
  },
  "cells": [
    {
      "cell_type": "markdown",
      "metadata": {
        "id": "fs4QKt3iAswQ"
      },
      "source": [
        "Training a machine translation model using JW300 data and Global Voices Data from Opuss"
      ]
    },
    {
      "cell_type": "markdown",
      "metadata": {
        "id": "3Bq4Bs92AswU"
      },
      "source": [
        ""
      ]
    },
    {
      "cell_type": "code",
      "metadata": {
        "colab": {
          "base_uri": "https://localhost:8080/"
        },
        "id": "BuwI7f2oBuKR",
        "outputId": "a0bc18f1-f4e7-4594-e37a-8b9e9118e629"
      },
      "source": [
        "from google.colab import drive\n",
        "drive.mount(\"/content/drive\", force_remount=True)"
      ],
      "execution_count": null,
      "outputs": [
        {
          "output_type": "stream",
          "name": "stdout",
          "text": [
            "Mounted at /content/drive\n"
          ]
        }
      ]
    },
    {
      "cell_type": "code",
      "metadata": {
        "id": "OxR2eOPWAswV"
      },
      "source": [
        "\n",
        "import os\n",
        "source_language = \"en\"\n",
        "target_language = \"sw\" \n",
        "lc = False  # If True, lowercase the data.\n",
        "seed = 42\n",
        "tag = \"baseline\" \n",
        "os.environ[\"src\"] = source_language\n",
        "os.environ[\"tgt\"] = target_language\n",
        "os.environ[\"tag\"] = tag\n"
      ],
      "execution_count": null,
      "outputs": []
    },
    {
      "cell_type": "code",
      "metadata": {
        "colab": {
          "base_uri": "https://localhost:8080/"
        },
        "id": "-w1WR-cqAswW",
        "outputId": "131a7fae-e2cd-4bf8-ef24-7f16258257c1"
      },
      "source": [
        "! pip3 install pandas\n",
        "import pandas as pd"
      ],
      "execution_count": null,
      "outputs": [
        {
          "output_type": "stream",
          "name": "stdout",
          "text": [
            "Requirement already satisfied: pandas in /usr/local/lib/python3.7/dist-packages (1.1.5)\n",
            "Requirement already satisfied: pytz>=2017.2 in /usr/local/lib/python3.7/dist-packages (from pandas) (2018.9)\n",
            "Requirement already satisfied: numpy>=1.15.4 in /usr/local/lib/python3.7/dist-packages (from pandas) (1.19.5)\n",
            "Requirement already satisfied: python-dateutil>=2.7.3 in /usr/local/lib/python3.7/dist-packages (from pandas) (2.8.2)\n",
            "Requirement already satisfied: six>=1.5 in /usr/local/lib/python3.7/dist-packages (from python-dateutil>=2.7.3->pandas) (1.15.0)\n"
          ]
        }
      ]
    },
    {
      "cell_type": "code",
      "metadata": {
        "colab": {
          "base_uri": "https://localhost:8080/",
          "height": 206
        },
        "id": "iGieujRRAswX",
        "outputId": "368c53c9-3c5c-4527-8a63-2480e99aff7a"
      },
      "source": [
        "####Read the train data and convert it to pandas dataframe - df\n",
        "# Get JW300 data\n",
        "df1=pd.read_csv('/content/drive/MyDrive/Lafand/data.csv')\n",
        "df1.head()"
      ],
      "execution_count": null,
      "outputs": [
        {
          "output_type": "execute_result",
          "data": {
            "text/html": [
              "<div>\n",
              "<style scoped>\n",
              "    .dataframe tbody tr th:only-of-type {\n",
              "        vertical-align: middle;\n",
              "    }\n",
              "\n",
              "    .dataframe tbody tr th {\n",
              "        vertical-align: top;\n",
              "    }\n",
              "\n",
              "    .dataframe thead th {\n",
              "        text-align: right;\n",
              "    }\n",
              "</style>\n",
              "<table border=\"1\" class=\"dataframe\">\n",
              "  <thead>\n",
              "    <tr style=\"text-align: right;\">\n",
              "      <th></th>\n",
              "      <th>source_sentence</th>\n",
              "      <th>target_sentence</th>\n",
              "    </tr>\n",
              "  </thead>\n",
              "  <tbody>\n",
              "    <tr>\n",
              "      <th>0</th>\n",
              "      <td>“ Look !</td>\n",
              "      <td>“ Tazama !</td>\n",
              "    </tr>\n",
              "    <tr>\n",
              "      <th>1</th>\n",
              "      <td>I Am Making All Things New ”</td>\n",
              "      <td>Mimi Ninafanya Vitu Vyote Kuwa Vipya ”</td>\n",
              "    </tr>\n",
              "    <tr>\n",
              "      <th>2</th>\n",
              "      <td>The above is a promise from God that has been ...</td>\n",
              "      <td>Iliyopo juu ni ahadi itokayo kwa Mungu ambayo ...</td>\n",
              "    </tr>\n",
              "    <tr>\n",
              "      <th>3</th>\n",
              "      <td>( Revelation 21 : 5 ) What does that promise m...</td>\n",
              "      <td>( Ufunuo 21 : 5 , NW ) Ahadi hiyo yamaanisha n...</td>\n",
              "    </tr>\n",
              "    <tr>\n",
              "      <th>4</th>\n",
              "      <td>How will it be fulfilled , and when ?</td>\n",
              "      <td>Itatimizwa jinsi gani , na wakati gani ?</td>\n",
              "    </tr>\n",
              "  </tbody>\n",
              "</table>\n",
              "</div>"
            ],
            "text/plain": [
              "                                     source_sentence                                    target_sentence\n",
              "0                                           “ Look !                                         “ Tazama !\n",
              "1                       I Am Making All Things New ”             Mimi Ninafanya Vitu Vyote Kuwa Vipya ”\n",
              "2  The above is a promise from God that has been ...  Iliyopo juu ni ahadi itokayo kwa Mungu ambayo ...\n",
              "3  ( Revelation 21 : 5 ) What does that promise m...  ( Ufunuo 21 : 5 , NW ) Ahadi hiyo yamaanisha n...\n",
              "4              How will it be fulfilled , and when ?           Itatimizwa jinsi gani , na wakati gani ?"
            ]
          },
          "metadata": {},
          "execution_count": 4
        }
      ]
    },
    {
      "cell_type": "code",
      "metadata": {
        "colab": {
          "base_uri": "https://localhost:8080/"
        },
        "id": "oS98epKPvpxk",
        "outputId": "24df6a33-3bf6-42e5-b2a3-b560bb2ed059"
      },
      "source": [
        "len(df1)"
      ],
      "execution_count": null,
      "outputs": [
        {
          "output_type": "execute_result",
          "data": {
            "text/plain": [
              "955372"
            ]
          },
          "metadata": {},
          "execution_count": 5
        }
      ]
    },
    {
      "cell_type": "code",
      "metadata": {
        "colab": {
          "base_uri": "https://localhost:8080/"
        },
        "id": "Xuci4_Ri6877",
        "outputId": "82f92b67-fe2b-477b-cb72-744e89548d5f"
      },
      "source": [
        "####Read the train data and convert it to pandas dataframe - df\n",
        "import pandas as pd\n",
        "col_name_en= ['source_sentence']\n",
        "col_name_sw = ['target_sentence']\n",
        "global_voice_en = pd.read_csv('/content/drive/MyDrive/Lafand/GlobalVoices.en.en',  sep='\\n\\n', names =col_name_en)\n",
        "global_voice_sw = pd.read_csv('/content/drive/MyDrive/Lafand/GlobalVoices.sw.sw', sep='\\n\\n', names =col_name_sw)\n",
        "\n",
        "df2 = pd.concat([global_voice_en,global_voice_sw], axis = 1)\n",
        "df = pd.concat([df1, df2])\n"
      ],
      "execution_count": null,
      "outputs": [
        {
          "output_type": "stream",
          "name": "stderr",
          "text": [
            "/usr/local/lib/python3.7/dist-packages/ipykernel_launcher.py:5: ParserWarning: Falling back to the 'python' engine because the 'c' engine does not support regex separators (separators > 1 char and different from '\\s+' are interpreted as regex); you can avoid this warning by specifying engine='python'.\n",
            "  \"\"\"\n",
            "/usr/local/lib/python3.7/dist-packages/ipykernel_launcher.py:6: ParserWarning: Falling back to the 'python' engine because the 'c' engine does not support regex separators (separators > 1 char and different from '\\s+' are interpreted as regex); you can avoid this warning by specifying engine='python'.\n",
            "  \n"
          ]
        }
      ]
    },
    {
      "cell_type": "code",
      "metadata": {
        "colab": {
          "base_uri": "https://localhost:8080/"
        },
        "id": "XawsqZZTAswY",
        "outputId": "c287d02e-764e-4d89-a47a-c60430582ab4"
      },
      "source": [
        "####print data head\n",
        "print(df.tail(5))"
      ],
      "execution_count": null,
      "outputs": [
        {
          "output_type": "stream",
          "name": "stdout",
          "text": [
            "                                         source_sentence                                    target_sentence\n",
            "30777  Ugandan journalist Charles Onyango-Obbo, also ...  Mwandishi wa habari kutoka nchini Uganda Charl...\n",
            "30778  Since the hunter has learned to shoot without ...  Tanguia pale mwindaji alipojifunza kulenga bil...\n",
            "30779  In essence, he meant that in order to keep dig...  Akimaanisha, ili kurudisha uhuru wa mitandao m...\n",
            "30780  Activists on the front lines of free speech in...  Wanaharakati walio mstari wa mbele kutetea hil...\n",
            "30781  With our strength and unity, online spaces wil...  Tukileta pamoja nguvu zetu kwa umoja, hii miha...\n"
          ]
        }
      ]
    },
    {
      "cell_type": "code",
      "metadata": {
        "colab": {
          "base_uri": "https://localhost:8080/"
        },
        "id": "PVf_XaN-_WUv",
        "outputId": "02935516-8333-4f5b-fb44-7893b69b2c0d"
      },
      "source": [
        "len(df)"
      ],
      "execution_count": null,
      "outputs": [
        {
          "output_type": "execute_result",
          "data": {
            "text/plain": [
              "986154"
            ]
          },
          "metadata": {},
          "execution_count": 8
        }
      ]
    },
    {
      "cell_type": "code",
      "metadata": {
        "colab": {
          "base_uri": "https://localhost:8080/"
        },
        "id": "yR8VJ6kvPBCO",
        "outputId": "6d1db858-5a52-40d6-aceb-7f8e8dcc1220"
      },
      "source": [
        "# Download the test set. \n",
        "# And the specific test set for this language pair.\n",
        "os.environ[\"trg\"] = target_language \n",
        "os.environ[\"src\"] = source_language \n",
        "\n",
        "! wget https://raw.githubusercontent.com/millicentochieng/Lafand/main/data/new_aligned/english.en\n",
        "! mv english.en test.$src\n",
        "! wget https://raw.githubusercontent.com/millicentochieng/Lafand/main/data/new_aligned/swahili.sw \n",
        "! mv swahili.sw test.$trg"
      ],
      "execution_count": null,
      "outputs": [
        {
          "output_type": "stream",
          "name": "stdout",
          "text": [
            "--2021-10-25 10:47:05--  https://raw.githubusercontent.com/millicentochieng/Lafand/main/data/new_aligned/english.en\n",
            "Resolving raw.githubusercontent.com (raw.githubusercontent.com)... 185.199.109.133, 185.199.110.133, 185.199.108.133, ...\n",
            "Connecting to raw.githubusercontent.com (raw.githubusercontent.com)|185.199.109.133|:443... connected.\n",
            "HTTP request sent, awaiting response... 200 OK\n",
            "Length: 450809 (440K) [text/plain]\n",
            "Saving to: ‘english.en’\n",
            "\n",
            "english.en          100%[===================>] 440.24K  --.-KB/s    in 0.005s  \n",
            "\n",
            "2021-10-25 10:47:05 (81.6 MB/s) - ‘english.en’ saved [450809/450809]\n",
            "\n",
            "--2021-10-25 10:47:06--  https://raw.githubusercontent.com/millicentochieng/Lafand/main/data/new_aligned/swahili.sw\n",
            "Resolving raw.githubusercontent.com (raw.githubusercontent.com)... 185.199.108.133, 185.199.109.133, 185.199.110.133, ...\n",
            "Connecting to raw.githubusercontent.com (raw.githubusercontent.com)|185.199.108.133|:443... connected.\n",
            "HTTP request sent, awaiting response... 200 OK\n",
            "Length: 487406 (476K) [text/plain]\n",
            "Saving to: ‘swahili.sw’\n",
            "\n",
            "swahili.sw          100%[===================>] 475.98K  --.-KB/s    in 0.007s  \n",
            "\n",
            "2021-10-25 10:47:06 (62.0 MB/s) - ‘swahili.sw’ saved [487406/487406]\n",
            "\n"
          ]
        }
      ]
    },
    {
      "cell_type": "code",
      "metadata": {
        "id": "6fkpGFxSDICC"
      },
      "source": [
        "# Read the test data to filter from train and dev splits.\n",
        "# Store english portion in set for quick filtering checks.\n",
        "en_test_sents = set()\n",
        "filter_test_sents = 'test.en'\n",
        "j = 0\n",
        "with open(filter_test_sents) as f:\n",
        "  for line in f:\n",
        "    en_test_sents.add(line.strip())\n",
        "    j += 1"
      ],
      "execution_count": null,
      "outputs": []
    },
    {
      "cell_type": "code",
      "metadata": {
        "colab": {
          "base_uri": "https://localhost:8080/"
        },
        "id": "bDgve9uqNdJ_",
        "outputId": "e08ab54d-534d-4138-cea1-7250fc43f859"
      },
      "source": [
        "j"
      ],
      "execution_count": null,
      "outputs": [
        {
          "output_type": "execute_result",
          "data": {
            "text/plain": [
              "3725"
            ]
          },
          "metadata": {},
          "execution_count": 11
        }
      ]
    },
    {
      "cell_type": "markdown",
      "metadata": {
        "id": "JBBS-yMdAswY"
      },
      "source": [
        "Pre-processing and export\n",
        "It is generally a good idea to remove duplicate translations and conflicting translations from the corpus. In practice, these public corpora include some number of these that need to be cleaned.\n",
        "\n",
        "In addition we will split our data into dev/test/train and export to the filesystem."
      ]
    },
    {
      "cell_type": "code",
      "metadata": {
        "colab": {
          "base_uri": "https://localhost:8080/"
        },
        "id": "duf6VIrGAswZ",
        "outputId": "fb1014a6-2489-4102-a8ca-259813ca18a4"
      },
      "source": [
        "seed = 42  # Random seed for shuffling.\n",
        "# drop duplicate translations\n",
        "df_pp = df.drop_duplicates()\n",
        "\n",
        "# drop conflicting translations\n",
        "\n",
        "df_pp.drop_duplicates(subset='source_sentence', inplace=True)\n",
        "df_pp.drop_duplicates(subset='target_sentence', inplace=True)\n",
        "\n",
        "# Shuffle the data to remove bias in dev set selection.\n",
        "df_pp = df_pp.sample(frac=1, random_state=seed).reset_index(drop=True)"
      ],
      "execution_count": null,
      "outputs": [
        {
          "output_type": "stream",
          "name": "stderr",
          "text": [
            "/usr/local/lib/python3.7/dist-packages/ipykernel_launcher.py:7: SettingWithCopyWarning: \n",
            "A value is trying to be set on a copy of a slice from a DataFrame\n",
            "\n",
            "See the caveats in the documentation: https://pandas.pydata.org/pandas-docs/stable/user_guide/indexing.html#returning-a-view-versus-a-copy\n",
            "  import sys\n",
            "/usr/local/lib/python3.7/dist-packages/ipykernel_launcher.py:8: SettingWithCopyWarning: \n",
            "A value is trying to be set on a copy of a slice from a DataFrame\n",
            "\n",
            "See the caveats in the documentation: https://pandas.pydata.org/pandas-docs/stable/user_guide/indexing.html#returning-a-view-versus-a-copy\n",
            "  \n"
          ]
        }
      ]
    },
    {
      "cell_type": "code",
      "metadata": {
        "colab": {
          "base_uri": "https://localhost:8080/"
        },
        "id": "Z2JAJbyKAswa",
        "outputId": "601ee680-5019-4b0e-aed7-e728f8c94a24"
      },
      "source": [
        "! pip3 install fuzzywuzzy"
      ],
      "execution_count": null,
      "outputs": [
        {
          "output_type": "stream",
          "name": "stdout",
          "text": [
            "Collecting fuzzywuzzy\n",
            "  Downloading fuzzywuzzy-0.18.0-py2.py3-none-any.whl (18 kB)\n",
            "Installing collected packages: fuzzywuzzy\n",
            "Successfully installed fuzzywuzzy-0.18.0\n"
          ]
        }
      ]
    },
    {
      "cell_type": "code",
      "metadata": {
        "colab": {
          "base_uri": "https://localhost:8080/"
        },
        "id": "vybLMrAGAswa",
        "outputId": "ff9b39fe-a786-4dee-d498-5c9581409dd3"
      },
      "source": [
        "! pip3 install python-Levenshtein"
      ],
      "execution_count": null,
      "outputs": [
        {
          "output_type": "stream",
          "name": "stdout",
          "text": [
            "Collecting python-Levenshtein\n",
            "  Downloading python-Levenshtein-0.12.2.tar.gz (50 kB)\n",
            "\u001b[?25l\r\u001b[K     |██████▌                         | 10 kB 17.5 MB/s eta 0:00:01\r\u001b[K     |█████████████                   | 20 kB 22.1 MB/s eta 0:00:01\r\u001b[K     |███████████████████▌            | 30 kB 26.1 MB/s eta 0:00:01\r\u001b[K     |██████████████████████████      | 40 kB 29.6 MB/s eta 0:00:01\r\u001b[K     |████████████████████████████████| 50 kB 5.6 MB/s \n",
            "\u001b[?25hRequirement already satisfied: setuptools in /usr/local/lib/python3.7/dist-packages (from python-Levenshtein) (57.4.0)\n",
            "Building wheels for collected packages: python-Levenshtein\n",
            "  Building wheel for python-Levenshtein (setup.py) ... \u001b[?25l\u001b[?25hdone\n",
            "  Created wheel for python-Levenshtein: filename=python_Levenshtein-0.12.2-cp37-cp37m-linux_x86_64.whl size=149861 sha256=e30aea87620c1cfab01c6122a1a9f83b7adca8d11a1a864b8702b4ea7d4b4ea3\n",
            "  Stored in directory: /root/.cache/pip/wheels/05/5f/ca/7c4367734892581bb5ff896f15027a932c551080b2abd3e00d\n",
            "Successfully built python-Levenshtein\n",
            "Installing collected packages: python-Levenshtein\n",
            "Successfully installed python-Levenshtein-0.12.2\n"
          ]
        }
      ]
    },
    {
      "cell_type": "code",
      "metadata": {
        "id": "HvNZeZzjGfJJ"
      },
      "source": [
        ""
      ],
      "execution_count": null,
      "outputs": []
    },
    {
      "cell_type": "code",
      "metadata": {
        "colab": {
          "base_uri": "https://localhost:8080/"
        },
        "id": "yhgErUHeAswb",
        "outputId": "1d21d3e3-17db-4bcc-cda9-67da63261790"
      },
      "source": [
        "# Use fuzzy wuzzy to remove \"almost duplicate\" sentences in the\n",
        "# test and training sets.\n",
        "from fuzzywuzzy import process\n",
        "import numpy as np\n",
        "import time\n",
        "\n",
        "# reset the index of the training set after previous filtering\n",
        "df_pp.reset_index(drop=False, inplace=True)\n",
        "\n",
        "# Remove samples from the training data set if they \"almost overlap\" with the\n",
        "# samples in the test set.\n",
        "\n",
        "# Filtering function. Adjust pad to narrow down the candidate matches to\n",
        "# within a certain length of characters of the given sample.\n",
        "def fuzzfilter(sample, candidates, pad):\n",
        "  candidates = [x for x in candidates if len(x) <= len(sample)+pad and len(x) >= len(sample)-pad] \n",
        "  if len(candidates) > 0:\n",
        "    return process.extractOne(sample, candidates)[1]\n",
        "  else:\n",
        "    return np.nan\n",
        "\n",
        "scores = []\n",
        "start_time = time.time()\n",
        "for idx, row in df_pp.iterrows():\n",
        "  scores.append(fuzzfilter(str(row['source_sentence']), list(en_test_sents), 5))\n",
        "  if idx % 1000 == 0:\n",
        "    hours, rem = divmod(time.time() - start_time, 3600)\n",
        "    minutes, seconds = divmod(rem, 60)\n",
        "    print(\"{:0>2}:{:0>2}:{:05.2f}\".format(int(hours),int(minutes),seconds), \"%0.2f percent complete\" % (100.0*float(idx)/float(len(df_pp))))\n",
        "\n",
        "# Filter out \"almost overlapping samples\"\n",
        "df_pp['scores'] = scores\n",
        "df_pp = df_pp[df_pp['scores'] < 95]"
      ],
      "execution_count": null,
      "outputs": [
        {
          "output_type": "stream",
          "name": "stdout",
          "text": [
            "00:00:00.38 0.00 percent complete\n",
            "00:00:21.76 0.11 percent complete\n",
            "00:00:43.41 0.22 percent complete\n",
            "00:01:05.38 0.34 percent complete\n",
            "00:01:26.22 0.45 percent complete\n",
            "00:01:48.60 0.56 percent complete\n",
            "00:02:10.59 0.67 percent complete\n",
            "00:02:32.28 0.79 percent complete\n",
            "00:02:53.56 0.90 percent complete\n",
            "00:03:15.28 1.01 percent complete\n",
            "00:03:36.75 1.12 percent complete\n",
            "00:03:58.95 1.24 percent complete\n",
            "00:04:20.32 1.35 percent complete\n",
            "00:04:41.66 1.46 percent complete\n",
            "00:05:03.35 1.57 percent complete\n",
            "00:05:25.38 1.69 percent complete\n",
            "00:05:47.54 1.80 percent complete\n",
            "00:06:08.70 1.91 percent complete\n",
            "00:06:30.60 2.02 percent complete\n",
            "00:06:52.04 2.14 percent complete\n",
            "00:07:13.56 2.25 percent complete\n",
            "00:07:35.36 2.36 percent complete\n"
          ]
        },
        {
          "output_type": "stream",
          "name": "stderr",
          "text": [
            "WARNING:root:Applied processor reduces input query to empty string, all comparisons will have score 0. [Query: '↓ ↓ ↓']\n"
          ]
        },
        {
          "output_type": "stream",
          "name": "stdout",
          "text": [
            "00:07:56.90 2.47 percent complete\n",
            "00:08:19.02 2.59 percent complete\n",
            "00:08:41.05 2.70 percent complete\n",
            "00:09:02.75 2.81 percent complete\n",
            "00:09:24.54 2.92 percent complete\n",
            "00:09:46.05 3.04 percent complete\n",
            "00:10:07.40 3.15 percent complete\n",
            "00:10:29.15 3.26 percent complete\n",
            "00:10:51.07 3.37 percent complete\n",
            "00:11:12.64 3.48 percent complete\n",
            "00:11:33.94 3.60 percent complete\n",
            "00:11:55.82 3.71 percent complete\n",
            "00:12:17.24 3.82 percent complete\n",
            "00:12:38.74 3.93 percent complete\n",
            "00:13:00.14 4.05 percent complete\n",
            "00:13:21.72 4.16 percent complete\n",
            "00:13:44.05 4.27 percent complete\n",
            "00:14:05.61 4.38 percent complete\n",
            "00:14:27.04 4.50 percent complete\n",
            "00:14:48.19 4.61 percent complete\n",
            "00:15:09.98 4.72 percent complete\n",
            "00:15:31.73 4.83 percent complete\n"
          ]
        },
        {
          "output_type": "stream",
          "name": "stderr",
          "text": [
            "WARNING:root:Applied processor reduces input query to empty string, all comparisons will have score 0. [Query: '□ ․ ․ ․ ․ ․']\n",
            "WARNING:root:Applied processor reduces input query to empty string, all comparisons will have score 0. [Query: '....']\n"
          ]
        },
        {
          "output_type": "stream",
          "name": "stdout",
          "text": [
            "00:15:53.20 4.95 percent complete\n",
            "00:16:15.48 5.06 percent complete\n",
            "00:16:37.26 5.17 percent complete\n",
            "00:16:58.34 5.28 percent complete\n",
            "00:17:19.98 5.40 percent complete\n",
            "00:17:41.47 5.51 percent complete\n",
            "00:18:03.11 5.62 percent complete\n",
            "00:18:24.91 5.73 percent complete\n",
            "00:18:46.81 5.85 percent complete\n"
          ]
        },
        {
          "output_type": "stream",
          "name": "stderr",
          "text": [
            "WARNING:root:Applied processor reduces input query to empty string, all comparisons will have score 0. [Query: '← ◯']\n"
          ]
        },
        {
          "output_type": "stream",
          "name": "stdout",
          "text": [
            "00:19:08.82 5.96 percent complete\n",
            "00:19:31.09 6.07 percent complete\n",
            "00:19:52.44 6.18 percent complete\n",
            "00:20:14.22 6.30 percent complete\n",
            "00:20:35.96 6.41 percent complete\n",
            "00:20:57.79 6.52 percent complete\n",
            "00:21:19.37 6.63 percent complete\n",
            "00:21:41.39 6.74 percent complete\n",
            "00:22:02.96 6.86 percent complete\n",
            "00:22:24.28 6.97 percent complete\n",
            "00:22:46.01 7.08 percent complete\n",
            "00:23:07.55 7.19 percent complete\n",
            "00:23:29.40 7.31 percent complete\n",
            "00:23:51.48 7.42 percent complete\n",
            "00:24:13.39 7.53 percent complete\n",
            "00:24:34.91 7.64 percent complete\n",
            "00:24:57.08 7.76 percent complete\n",
            "00:25:19.02 7.87 percent complete\n",
            "00:25:41.03 7.98 percent complete\n",
            "00:26:02.76 8.09 percent complete\n",
            "00:26:23.84 8.21 percent complete\n",
            "00:26:45.02 8.32 percent complete\n",
            "00:27:07.42 8.43 percent complete\n",
            "00:27:29.08 8.54 percent complete\n",
            "00:27:50.76 8.66 percent complete\n",
            "00:28:13.07 8.77 percent complete\n",
            "00:28:34.97 8.88 percent complete\n",
            "00:28:56.82 8.99 percent complete\n",
            "00:29:18.36 9.11 percent complete\n",
            "00:29:39.65 9.22 percent complete\n",
            "00:30:01.37 9.33 percent complete\n",
            "00:30:23.36 9.44 percent complete\n",
            "00:30:44.90 9.56 percent complete\n",
            "00:31:06.67 9.67 percent complete\n",
            "00:31:28.37 9.78 percent complete\n",
            "00:31:50.26 9.89 percent complete\n",
            "00:32:12.17 10.00 percent complete\n",
            "00:32:33.69 10.12 percent complete\n",
            "00:32:55.32 10.23 percent complete\n",
            "00:33:16.80 10.34 percent complete\n",
            "00:33:38.13 10.45 percent complete\n",
            "00:33:59.34 10.57 percent complete\n",
            "00:34:20.99 10.68 percent complete\n",
            "00:34:42.72 10.79 percent complete\n",
            "00:35:04.11 10.90 percent complete\n",
            "00:35:25.87 11.02 percent complete\n",
            "00:35:48.14 11.13 percent complete\n",
            "00:36:09.23 11.24 percent complete\n",
            "00:36:30.55 11.35 percent complete\n",
            "00:36:52.42 11.47 percent complete\n",
            "00:37:13.71 11.58 percent complete\n",
            "00:37:35.88 11.69 percent complete\n",
            "00:37:57.05 11.80 percent complete\n",
            "00:38:19.25 11.92 percent complete\n",
            "00:38:41.19 12.03 percent complete\n",
            "00:39:03.00 12.14 percent complete\n",
            "00:39:24.87 12.25 percent complete\n",
            "00:39:46.46 12.37 percent complete\n",
            "00:40:08.16 12.48 percent complete\n",
            "00:40:30.09 12.59 percent complete\n",
            "00:40:52.02 12.70 percent complete\n",
            "00:41:13.95 12.82 percent complete\n",
            "00:41:35.44 12.93 percent complete\n",
            "00:41:57.41 13.04 percent complete\n",
            "00:42:18.92 13.15 percent complete\n",
            "00:42:40.63 13.26 percent complete\n",
            "00:43:02.36 13.38 percent complete\n"
          ]
        },
        {
          "output_type": "stream",
          "name": "stderr",
          "text": [
            "WARNING:root:Applied processor reduces input query to empty string, all comparisons will have score 0. [Query: '⇩']\n"
          ]
        },
        {
          "output_type": "stream",
          "name": "stdout",
          "text": [
            "00:43:24.69 13.49 percent complete\n",
            "00:43:46.77 13.60 percent complete\n",
            "00:44:08.16 13.71 percent complete\n",
            "00:44:30.56 13.83 percent complete\n",
            "00:44:52.22 13.94 percent complete\n",
            "00:45:14.35 14.05 percent complete\n",
            "00:45:36.18 14.16 percent complete\n",
            "00:45:57.60 14.28 percent complete\n",
            "00:46:19.12 14.39 percent complete\n",
            "00:46:40.60 14.50 percent complete\n",
            "00:47:02.52 14.61 percent complete\n",
            "00:47:24.24 14.73 percent complete\n",
            "00:47:45.48 14.84 percent complete\n",
            "00:48:07.50 14.95 percent complete\n",
            "00:48:29.10 15.06 percent complete\n",
            "00:48:50.48 15.18 percent complete\n",
            "00:49:11.75 15.29 percent complete\n",
            "00:49:33.70 15.40 percent complete\n",
            "00:49:55.48 15.51 percent complete\n",
            "00:50:17.51 15.63 percent complete\n",
            "00:50:39.36 15.74 percent complete\n",
            "00:51:01.33 15.85 percent complete\n",
            "00:51:23.87 15.96 percent complete\n",
            "00:51:45.88 16.08 percent complete\n",
            "00:52:07.47 16.19 percent complete\n",
            "00:52:29.17 16.30 percent complete\n",
            "00:52:50.47 16.41 percent complete\n",
            "00:53:12.09 16.53 percent complete\n",
            "00:53:33.92 16.64 percent complete\n",
            "00:53:55.68 16.75 percent complete\n",
            "00:54:17.92 16.86 percent complete\n",
            "00:54:39.30 16.97 percent complete\n",
            "00:55:01.54 17.09 percent complete\n"
          ]
        },
        {
          "output_type": "stream",
          "name": "stderr",
          "text": [
            "WARNING:root:Applied processor reduces input query to empty string, all comparisons will have score 0. [Query: '— ― ― ― ― ― ― ―']\n"
          ]
        },
        {
          "output_type": "stream",
          "name": "stdout",
          "text": [
            "00:55:23.58 17.20 percent complete\n",
            "00:55:45.68 17.31 percent complete\n",
            "00:56:07.19 17.42 percent complete\n",
            "00:56:29.56 17.54 percent complete\n",
            "00:56:51.58 17.65 percent complete\n",
            "00:57:13.25 17.76 percent complete\n"
          ]
        },
        {
          "output_type": "stream",
          "name": "stderr",
          "text": [
            "WARNING:root:Applied processor reduces input query to empty string, all comparisons will have score 0. [Query: '↓']\n"
          ]
        },
        {
          "output_type": "stream",
          "name": "stdout",
          "text": [
            "00:57:34.92 17.87 percent complete\n",
            "00:57:56.91 17.99 percent complete\n"
          ]
        },
        {
          "output_type": "stream",
          "name": "stderr",
          "text": [
            "WARNING:root:Applied processor reduces input query to empty string, all comparisons will have score 0. [Query: '← ←']\n"
          ]
        },
        {
          "output_type": "stream",
          "name": "stdout",
          "text": [
            "00:58:18.47 18.10 percent complete\n"
          ]
        },
        {
          "output_type": "stream",
          "name": "stderr",
          "text": [
            "WARNING:root:Applied processor reduces input query to empty string, all comparisons will have score 0. [Query: '“ . . .']\n"
          ]
        },
        {
          "output_type": "stream",
          "name": "stdout",
          "text": [
            "00:58:40.03 18.21 percent complete\n",
            "00:59:01.98 18.32 percent complete\n",
            "00:59:24.38 18.44 percent complete\n",
            "00:59:46.11 18.55 percent complete\n",
            "01:00:07.50 18.66 percent complete\n",
            "01:00:29.71 18.77 percent complete\n",
            "01:00:51.23 18.89 percent complete\n",
            "01:01:12.85 19.00 percent complete\n",
            "01:01:34.78 19.11 percent complete\n",
            "01:01:56.48 19.22 percent complete\n",
            "01:02:18.09 19.34 percent complete\n",
            "01:02:39.80 19.45 percent complete\n",
            "01:03:01.14 19.56 percent complete\n",
            "01:03:23.53 19.67 percent complete\n",
            "01:03:45.25 19.79 percent complete\n",
            "01:04:06.90 19.90 percent complete\n",
            "01:04:27.92 20.01 percent complete\n",
            "01:04:50.50 20.12 percent complete\n",
            "01:05:12.36 20.23 percent complete\n",
            "01:05:34.43 20.35 percent complete\n",
            "01:05:56.13 20.46 percent complete\n",
            "01:06:18.30 20.57 percent complete\n",
            "01:06:40.18 20.68 percent complete\n",
            "01:07:02.29 20.80 percent complete\n",
            "01:07:24.00 20.91 percent complete\n",
            "01:07:46.08 21.02 percent complete\n",
            "01:08:08.05 21.13 percent complete\n",
            "01:08:29.71 21.25 percent complete\n",
            "01:08:51.86 21.36 percent complete\n",
            "01:09:13.11 21.47 percent complete\n",
            "01:09:35.00 21.58 percent complete\n",
            "01:09:56.86 21.70 percent complete\n",
            "01:10:18.97 21.81 percent complete\n"
          ]
        },
        {
          "output_type": "stream",
          "name": "stderr",
          "text": [
            "WARNING:root:Applied processor reduces input query to empty string, all comparisons will have score 0. [Query: '* * *']\n"
          ]
        },
        {
          "output_type": "stream",
          "name": "stdout",
          "text": [
            "01:10:40.36 21.92 percent complete\n",
            "01:11:02.27 22.03 percent complete\n",
            "01:11:24.10 22.15 percent complete\n",
            "01:11:45.39 22.26 percent complete\n",
            "01:12:06.88 22.37 percent complete\n",
            "01:12:28.60 22.48 percent complete\n",
            "01:12:50.88 22.60 percent complete\n",
            "01:13:12.94 22.71 percent complete\n",
            "01:13:34.42 22.82 percent complete\n",
            "01:13:56.26 22.93 percent complete\n",
            "01:14:18.16 23.05 percent complete\n",
            "01:14:39.36 23.16 percent complete\n",
            "01:15:01.15 23.27 percent complete\n",
            "01:15:23.56 23.38 percent complete\n",
            "01:15:45.76 23.49 percent complete\n",
            "01:16:07.73 23.61 percent complete\n",
            "01:16:29.62 23.72 percent complete\n",
            "01:16:51.26 23.83 percent complete\n",
            "01:17:12.60 23.94 percent complete\n",
            "01:17:34.30 24.06 percent complete\n",
            "01:17:56.36 24.17 percent complete\n",
            "01:18:18.25 24.28 percent complete\n",
            "01:18:40.30 24.39 percent complete\n",
            "01:19:01.90 24.51 percent complete\n",
            "01:19:23.78 24.62 percent complete\n",
            "01:19:44.96 24.73 percent complete\n",
            "01:20:06.63 24.84 percent complete\n",
            "01:20:28.81 24.96 percent complete\n",
            "01:20:50.72 25.07 percent complete\n",
            "01:21:12.42 25.18 percent complete\n",
            "01:21:34.25 25.29 percent complete\n",
            "01:21:56.60 25.41 percent complete\n",
            "01:22:18.62 25.52 percent complete\n",
            "01:22:39.83 25.63 percent complete\n",
            "01:23:01.64 25.74 percent complete\n",
            "01:23:23.65 25.86 percent complete\n",
            "01:23:45.48 25.97 percent complete\n",
            "01:24:06.70 26.08 percent complete\n",
            "01:24:28.13 26.19 percent complete\n",
            "01:24:50.13 26.31 percent complete\n",
            "01:25:12.00 26.42 percent complete\n",
            "01:25:33.78 26.53 percent complete\n",
            "01:25:55.96 26.64 percent complete\n",
            "01:26:17.92 26.75 percent complete\n",
            "01:26:40.32 26.87 percent complete\n",
            "01:27:02.16 26.98 percent complete\n",
            "01:27:23.83 27.09 percent complete\n",
            "01:27:45.54 27.20 percent complete\n",
            "01:28:06.96 27.32 percent complete\n",
            "01:28:29.23 27.43 percent complete\n",
            "01:28:51.48 27.54 percent complete\n",
            "01:29:13.26 27.65 percent complete\n",
            "01:29:34.83 27.77 percent complete\n",
            "01:29:56.35 27.88 percent complete\n",
            "01:30:18.11 27.99 percent complete\n",
            "01:30:39.55 28.10 percent complete\n",
            "01:31:01.13 28.22 percent complete\n",
            "01:31:22.92 28.33 percent complete\n",
            "01:31:44.51 28.44 percent complete\n",
            "01:32:06.50 28.55 percent complete\n",
            "01:32:28.44 28.67 percent complete\n",
            "01:32:49.98 28.78 percent complete\n",
            "01:33:12.04 28.89 percent complete\n",
            "01:33:33.81 29.00 percent complete\n",
            "01:33:55.56 29.12 percent complete\n",
            "01:34:17.46 29.23 percent complete\n",
            "01:34:39.27 29.34 percent complete\n",
            "01:35:01.38 29.45 percent complete\n",
            "01:35:23.02 29.57 percent complete\n",
            "01:35:44.66 29.68 percent complete\n",
            "01:36:06.32 29.79 percent complete\n",
            "01:36:28.09 29.90 percent complete\n",
            "01:36:49.77 30.01 percent complete\n",
            "01:37:11.54 30.13 percent complete\n",
            "01:37:33.29 30.24 percent complete\n"
          ]
        },
        {
          "output_type": "stream",
          "name": "stderr",
          "text": [
            "WARNING:root:Applied processor reduces input query to empty string, all comparisons will have score 0. [Query: '‏']\n"
          ]
        },
        {
          "output_type": "stream",
          "name": "stdout",
          "text": [
            "01:37:55.14 30.35 percent complete\n",
            "01:38:17.00 30.46 percent complete\n",
            "01:38:38.42 30.58 percent complete\n",
            "01:38:59.67 30.69 percent complete\n",
            "01:39:21.66 30.80 percent complete\n",
            "01:39:43.81 30.91 percent complete\n",
            "01:40:05.95 31.03 percent complete\n",
            "01:40:28.21 31.14 percent complete\n"
          ]
        },
        {
          "output_type": "stream",
          "name": "stderr",
          "text": [
            "WARNING:root:Applied processor reduces input query to empty string, all comparisons will have score 0. [Query: '*****']\n"
          ]
        },
        {
          "output_type": "stream",
          "name": "stdout",
          "text": [
            "01:40:49.53 31.25 percent complete\n",
            "01:41:11.29 31.36 percent complete\n",
            "01:41:32.75 31.48 percent complete\n",
            "01:41:54.26 31.59 percent complete\n",
            "01:42:16.20 31.70 percent complete\n",
            "01:42:38.00 31.81 percent complete\n",
            "01:42:59.52 31.93 percent complete\n",
            "01:43:21.68 32.04 percent complete\n",
            "01:43:43.23 32.15 percent complete\n",
            "01:44:04.50 32.26 percent complete\n",
            "01:44:26.55 32.38 percent complete\n",
            "01:44:48.57 32.49 percent complete\n",
            "01:45:10.49 32.60 percent complete\n",
            "01:45:31.88 32.71 percent complete\n",
            "01:45:53.32 32.83 percent complete\n",
            "01:46:14.97 32.94 percent complete\n",
            "01:46:36.12 33.05 percent complete\n",
            "01:46:57.68 33.16 percent complete\n",
            "01:47:18.75 33.27 percent complete\n",
            "01:47:40.57 33.39 percent complete\n",
            "01:48:01.95 33.50 percent complete\n",
            "01:48:23.68 33.61 percent complete\n",
            "01:48:45.42 33.72 percent complete\n",
            "01:49:06.97 33.84 percent complete\n",
            "01:49:28.42 33.95 percent complete\n",
            "01:49:50.60 34.06 percent complete\n",
            "01:50:12.48 34.17 percent complete\n",
            "01:50:34.25 34.29 percent complete\n",
            "01:50:55.88 34.40 percent complete\n",
            "01:51:17.64 34.51 percent complete\n",
            "01:51:39.62 34.62 percent complete\n",
            "01:52:01.05 34.74 percent complete\n",
            "01:52:22.61 34.85 percent complete\n",
            "01:52:44.11 34.96 percent complete\n",
            "01:53:05.95 35.07 percent complete\n",
            "01:53:27.48 35.19 percent complete\n",
            "01:53:49.33 35.30 percent complete\n",
            "01:54:11.47 35.41 percent complete\n",
            "01:54:32.76 35.52 percent complete\n"
          ]
        },
        {
          "output_type": "stream",
          "name": "stderr",
          "text": [
            "WARNING:root:Applied processor reduces input query to empty string, all comparisons will have score 0. [Query: '▴']\n"
          ]
        },
        {
          "output_type": "stream",
          "name": "stdout",
          "text": [
            "01:54:54.68 35.64 percent complete\n",
            "01:55:16.33 35.75 percent complete\n",
            "01:55:38.00 35.86 percent complete\n",
            "01:55:59.82 35.97 percent complete\n",
            "01:56:21.69 36.09 percent complete\n",
            "01:56:42.80 36.20 percent complete\n",
            "01:57:04.45 36.31 percent complete\n",
            "01:57:25.80 36.42 percent complete\n",
            "01:57:47.62 36.53 percent complete\n",
            "01:58:09.77 36.65 percent complete\n"
          ]
        },
        {
          "output_type": "stream",
          "name": "stderr",
          "text": [
            "WARNING:root:Applied processor reduces input query to empty string, all comparisons will have score 0. [Query: '⇧']\n"
          ]
        },
        {
          "output_type": "stream",
          "name": "stdout",
          "text": [
            "01:58:31.62 36.76 percent complete\n",
            "01:58:53.80 36.87 percent complete\n",
            "01:59:15.46 36.98 percent complete\n",
            "01:59:37.53 37.10 percent complete\n",
            "01:59:59.16 37.21 percent complete\n",
            "02:00:21.08 37.32 percent complete\n",
            "02:00:43.29 37.43 percent complete\n",
            "02:01:05.01 37.55 percent complete\n",
            "02:01:26.83 37.66 percent complete\n",
            "02:01:48.55 37.77 percent complete\n",
            "02:02:10.09 37.88 percent complete\n",
            "02:02:31.80 38.00 percent complete\n",
            "02:02:53.80 38.11 percent complete\n",
            "02:03:15.33 38.22 percent complete\n",
            "02:03:37.06 38.33 percent complete\n",
            "02:03:59.39 38.45 percent complete\n",
            "02:04:20.99 38.56 percent complete\n",
            "02:04:42.69 38.67 percent complete\n",
            "02:05:03.96 38.78 percent complete\n",
            "02:05:25.64 38.90 percent complete\n"
          ]
        },
        {
          "output_type": "stream",
          "name": "stderr",
          "text": [
            "WARNING:root:Applied processor reduces input query to empty string, all comparisons will have score 0. [Query: '$ ․ ․ ․ ․ ․ $ ․ ․ ․ ․ ․']\n",
            "WARNING:root:Applied processor reduces input query to empty string, all comparisons will have score 0. [Query: '․ ․ ․ ․']\n"
          ]
        },
        {
          "output_type": "stream",
          "name": "stdout",
          "text": [
            "02:05:47.53 39.01 percent complete\n",
            "02:06:09.65 39.12 percent complete\n",
            "02:06:31.40 39.23 percent complete\n",
            "02:06:53.33 39.35 percent complete\n",
            "02:07:15.01 39.46 percent complete\n",
            "02:07:36.94 39.57 percent complete\n",
            "02:07:58.17 39.68 percent complete\n",
            "02:08:19.47 39.79 percent complete\n",
            "02:08:41.12 39.91 percent complete\n",
            "02:09:02.56 40.02 percent complete\n",
            "02:09:24.28 40.13 percent complete\n",
            "02:09:46.40 40.24 percent complete\n",
            "02:10:08.13 40.36 percent complete\n",
            "02:10:29.60 40.47 percent complete\n",
            "02:10:51.33 40.58 percent complete\n",
            "02:11:13.02 40.69 percent complete\n",
            "02:11:34.93 40.81 percent complete\n",
            "02:11:56.56 40.92 percent complete\n",
            "02:12:18.27 41.03 percent complete\n",
            "02:12:39.95 41.14 percent complete\n",
            "02:13:01.87 41.26 percent complete\n",
            "02:13:23.60 41.37 percent complete\n",
            "02:13:45.53 41.48 percent complete\n",
            "02:14:06.80 41.59 percent complete\n",
            "02:14:29.38 41.71 percent complete\n",
            "02:14:51.31 41.82 percent complete\n",
            "02:15:12.85 41.93 percent complete\n",
            "02:15:34.21 42.04 percent complete\n",
            "02:15:55.91 42.16 percent complete\n",
            "02:16:17.82 42.27 percent complete\n",
            "02:16:39.51 42.38 percent complete\n",
            "02:17:01.05 42.49 percent complete\n",
            "02:17:23.51 42.61 percent complete\n",
            "02:17:45.28 42.72 percent complete\n",
            "02:18:07.12 42.83 percent complete\n",
            "02:18:28.71 42.94 percent complete\n",
            "02:18:50.49 43.05 percent complete\n",
            "02:19:12.20 43.17 percent complete\n",
            "02:19:33.85 43.28 percent complete\n",
            "02:19:55.66 43.39 percent complete\n",
            "02:20:16.98 43.50 percent complete\n",
            "02:20:38.59 43.62 percent complete\n",
            "02:21:00.21 43.73 percent complete\n",
            "02:21:21.94 43.84 percent complete\n",
            "02:21:43.50 43.95 percent complete\n",
            "02:22:05.01 44.07 percent complete\n",
            "02:22:26.39 44.18 percent complete\n",
            "02:22:48.39 44.29 percent complete\n",
            "02:23:10.25 44.40 percent complete\n",
            "02:23:32.23 44.52 percent complete\n",
            "02:23:53.42 44.63 percent complete\n",
            "02:24:14.66 44.74 percent complete\n",
            "02:24:36.47 44.85 percent complete\n",
            "02:24:58.22 44.97 percent complete\n",
            "02:25:20.08 45.08 percent complete\n",
            "02:25:41.87 45.19 percent complete\n",
            "02:26:03.41 45.30 percent complete\n",
            "02:26:25.53 45.42 percent complete\n",
            "02:26:47.01 45.53 percent complete\n",
            "02:27:08.18 45.64 percent complete\n",
            "02:27:30.02 45.75 percent complete\n"
          ]
        },
        {
          "output_type": "stream",
          "name": "stderr",
          "text": [
            "WARNING:root:Applied processor reduces input query to empty string, all comparisons will have score 0. [Query: '...']\n"
          ]
        },
        {
          "output_type": "stream",
          "name": "stdout",
          "text": [
            "02:27:52.05 45.87 percent complete\n",
            "02:28:13.75 45.98 percent complete\n",
            "02:28:34.99 46.09 percent complete\n",
            "02:28:56.38 46.20 percent complete\n",
            "02:29:17.84 46.31 percent complete\n",
            "02:29:39.77 46.43 percent complete\n",
            "02:30:01.23 46.54 percent complete\n",
            "02:30:23.06 46.65 percent complete\n",
            "02:30:44.28 46.76 percent complete\n",
            "02:31:05.59 46.88 percent complete\n",
            "02:31:27.63 46.99 percent complete\n",
            "02:31:48.95 47.10 percent complete\n",
            "02:32:10.57 47.21 percent complete\n",
            "02:32:33.20 47.33 percent complete\n",
            "02:32:54.72 47.44 percent complete\n",
            "02:33:17.22 47.55 percent complete\n",
            "02:33:38.43 47.66 percent complete\n",
            "02:33:59.84 47.78 percent complete\n",
            "02:34:21.63 47.89 percent complete\n",
            "02:34:43.58 48.00 percent complete\n",
            "02:35:05.22 48.11 percent complete\n",
            "02:35:26.80 48.23 percent complete\n",
            "02:35:48.18 48.34 percent complete\n",
            "02:36:10.59 48.45 percent complete\n",
            "02:36:32.47 48.56 percent complete\n",
            "02:36:54.23 48.68 percent complete\n",
            "02:37:16.03 48.79 percent complete\n",
            "02:37:37.80 48.90 percent complete\n",
            "02:37:59.66 49.01 percent complete\n",
            "02:38:21.20 49.13 percent complete\n",
            "02:38:42.60 49.24 percent complete\n"
          ]
        },
        {
          "output_type": "stream",
          "name": "stderr",
          "text": [
            "WARNING:root:Applied processor reduces input query to empty string, all comparisons will have score 0. [Query: '․ ․ ․ ․ ․ ․ ․ ․ ․ ․ ․ ․ ․ ․ ․ ․ ․ ․ ․ ․ ․ ․ ․ ․ ․ ․ ․ ․ ․ ․ ․ ․ ․ ․ ․ ․ ․ ․ ․ ․ ․ ․ ․ ․ ․ ․ ․ ․ ․ ․ ․ ․ ․ ․ ․']\n"
          ]
        },
        {
          "output_type": "stream",
          "name": "stdout",
          "text": [
            "02:39:03.89 49.35 percent complete\n",
            "02:39:26.06 49.46 percent complete\n",
            "02:39:47.98 49.58 percent complete\n",
            "02:40:09.53 49.69 percent complete\n",
            "02:40:31.71 49.80 percent complete\n",
            "02:40:53.35 49.91 percent complete\n",
            "02:41:15.05 50.02 percent complete\n",
            "02:41:37.01 50.14 percent complete\n",
            "02:41:58.15 50.25 percent complete\n"
          ]
        },
        {
          "output_type": "stream",
          "name": "stderr",
          "text": [
            "WARNING:root:Applied processor reduces input query to empty string, all comparisons will have score 0. [Query: '․ ․ ․ ․ ․']\n"
          ]
        },
        {
          "output_type": "stream",
          "name": "stdout",
          "text": [
            "02:42:20.25 50.36 percent complete\n",
            "02:42:41.49 50.47 percent complete\n",
            "02:43:03.18 50.59 percent complete\n",
            "02:43:24.31 50.70 percent complete\n",
            "02:43:46.20 50.81 percent complete\n",
            "02:44:08.12 50.92 percent complete\n",
            "02:44:29.91 51.04 percent complete\n",
            "02:44:51.46 51.15 percent complete\n",
            "02:45:13.22 51.26 percent complete\n",
            "02:45:35.00 51.37 percent complete\n",
            "02:45:56.99 51.49 percent complete\n",
            "02:46:19.51 51.60 percent complete\n",
            "02:46:41.21 51.71 percent complete\n",
            "02:47:02.99 51.82 percent complete\n",
            "02:47:24.83 51.94 percent complete\n",
            "02:47:46.29 52.05 percent complete\n",
            "02:48:08.73 52.16 percent complete\n",
            "02:48:29.93 52.27 percent complete\n",
            "02:48:51.92 52.39 percent complete\n",
            "02:49:13.76 52.50 percent complete\n",
            "02:49:35.35 52.61 percent complete\n"
          ]
        },
        {
          "output_type": "stream",
          "name": "stderr",
          "text": [
            "WARNING:root:Applied processor reduces input query to empty string, all comparisons will have score 0. [Query: '-- — —']\n"
          ]
        },
        {
          "output_type": "stream",
          "name": "stdout",
          "text": [
            "02:49:57.10 52.72 percent complete\n",
            "02:50:19.08 52.84 percent complete\n"
          ]
        },
        {
          "output_type": "stream",
          "name": "stderr",
          "text": [
            "WARNING:root:Applied processor reduces input query to empty string, all comparisons will have score 0. [Query: '*']\n",
            "WARNING:root:Applied processor reduces input query to empty string, all comparisons will have score 0. [Query: '— —']\n"
          ]
        },
        {
          "output_type": "stream",
          "name": "stdout",
          "text": [
            "02:50:40.97 52.95 percent complete\n",
            "02:51:02.58 53.06 percent complete\n",
            "02:51:24.00 53.17 percent complete\n",
            "02:51:45.95 53.28 percent complete\n",
            "02:52:07.97 53.40 percent complete\n",
            "02:52:29.27 53.51 percent complete\n",
            "02:52:50.62 53.62 percent complete\n",
            "02:53:12.60 53.73 percent complete\n",
            "02:53:34.37 53.85 percent complete\n",
            "02:53:56.15 53.96 percent complete\n",
            "02:54:18.07 54.07 percent complete\n",
            "02:54:40.43 54.18 percent complete\n",
            "02:55:02.77 54.30 percent complete\n",
            "02:55:24.63 54.41 percent complete\n",
            "02:55:46.44 54.52 percent complete\n",
            "02:56:08.19 54.63 percent complete\n",
            "02:56:30.21 54.75 percent complete\n",
            "02:56:51.94 54.86 percent complete\n",
            "02:57:14.01 54.97 percent complete\n",
            "02:57:36.12 55.08 percent complete\n"
          ]
        },
        {
          "output_type": "stream",
          "name": "stderr",
          "text": [
            "WARNING:root:Applied processor reduces input query to empty string, all comparisons will have score 0. [Query: '● ● ● ● ●']\n"
          ]
        },
        {
          "output_type": "stream",
          "name": "stdout",
          "text": [
            "02:57:57.90 55.20 percent complete\n",
            "02:58:19.96 55.31 percent complete\n",
            "02:58:41.89 55.42 percent complete\n",
            "02:59:03.60 55.53 percent complete\n",
            "02:59:24.72 55.65 percent complete\n",
            "02:59:46.21 55.76 percent complete\n",
            "03:00:08.44 55.87 percent complete\n",
            "03:00:29.98 55.98 percent complete\n",
            "03:00:52.23 56.10 percent complete\n",
            "03:01:14.00 56.21 percent complete\n",
            "03:01:35.75 56.32 percent complete\n",
            "03:01:57.53 56.43 percent complete\n",
            "03:02:19.38 56.54 percent complete\n",
            "03:02:41.25 56.66 percent complete\n",
            "03:03:03.40 56.77 percent complete\n",
            "03:03:25.26 56.88 percent complete\n",
            "03:03:47.41 56.99 percent complete\n",
            "03:04:09.67 57.11 percent complete\n",
            "03:04:31.37 57.22 percent complete\n",
            "03:04:52.88 57.33 percent complete\n",
            "03:05:14.30 57.44 percent complete\n",
            "03:05:37.03 57.56 percent complete\n",
            "03:05:58.59 57.67 percent complete\n",
            "03:06:20.49 57.78 percent complete\n",
            "03:06:42.14 57.89 percent complete\n",
            "03:07:03.79 58.01 percent complete\n",
            "03:07:26.01 58.12 percent complete\n",
            "03:07:47.64 58.23 percent complete\n",
            "03:08:09.54 58.34 percent complete\n",
            "03:08:31.06 58.46 percent complete\n",
            "03:08:52.92 58.57 percent complete\n",
            "03:09:15.07 58.68 percent complete\n",
            "03:09:37.26 58.79 percent complete\n",
            "03:09:59.61 58.91 percent complete\n",
            "03:10:21.27 59.02 percent complete\n",
            "03:10:43.47 59.13 percent complete\n",
            "03:11:05.26 59.24 percent complete\n",
            "03:11:26.98 59.36 percent complete\n",
            "03:11:48.29 59.47 percent complete\n",
            "03:12:09.80 59.58 percent complete\n",
            "03:12:31.51 59.69 percent complete\n",
            "03:12:53.43 59.80 percent complete\n",
            "03:13:15.52 59.92 percent complete\n",
            "03:13:37.19 60.03 percent complete\n",
            "03:13:58.83 60.14 percent complete\n",
            "03:14:20.51 60.25 percent complete\n",
            "03:14:42.56 60.37 percent complete\n",
            "03:15:04.12 60.48 percent complete\n",
            "03:15:25.65 60.59 percent complete\n",
            "03:15:47.35 60.70 percent complete\n",
            "03:16:08.95 60.82 percent complete\n",
            "03:16:30.71 60.93 percent complete\n",
            "03:16:52.55 61.04 percent complete\n",
            "03:17:14.44 61.15 percent complete\n",
            "03:17:36.10 61.27 percent complete\n",
            "03:17:57.95 61.38 percent complete\n",
            "03:18:19.71 61.49 percent complete\n"
          ]
        },
        {
          "output_type": "stream",
          "name": "stderr",
          "text": [
            "WARNING:root:Applied processor reduces input query to empty string, all comparisons will have score 0. [Query: '↓ ↓ ↓ ↓']\n"
          ]
        },
        {
          "output_type": "stream",
          "name": "stdout",
          "text": [
            "03:18:41.99 61.60 percent complete\n",
            "03:19:03.33 61.72 percent complete\n"
          ]
        },
        {
          "output_type": "stream",
          "name": "stderr",
          "text": [
            "WARNING:root:Applied processor reduces input query to empty string, all comparisons will have score 0. [Query: '→ → →']\n"
          ]
        },
        {
          "output_type": "stream",
          "name": "stdout",
          "text": [
            "03:19:25.21 61.83 percent complete\n"
          ]
        },
        {
          "output_type": "stream",
          "name": "stderr",
          "text": [
            "WARNING:root:Applied processor reduces input query to empty string, all comparisons will have score 0. [Query: '→ →']\n"
          ]
        },
        {
          "output_type": "stream",
          "name": "stdout",
          "text": [
            "03:19:46.89 61.94 percent complete\n",
            "03:20:08.67 62.05 percent complete\n",
            "03:20:30.50 62.17 percent complete\n",
            "03:20:51.74 62.28 percent complete\n",
            "03:21:13.86 62.39 percent complete\n",
            "03:21:35.67 62.50 percent complete\n",
            "03:21:57.66 62.62 percent complete\n",
            "03:22:19.78 62.73 percent complete\n",
            "03:22:41.78 62.84 percent complete\n",
            "03:23:03.39 62.95 percent complete\n",
            "03:23:25.38 63.06 percent complete\n",
            "03:23:47.56 63.18 percent complete\n",
            "03:24:09.70 63.29 percent complete\n",
            "03:24:32.39 63.40 percent complete\n",
            "03:24:54.12 63.51 percent complete\n",
            "03:25:16.97 63.63 percent complete\n",
            "03:25:38.45 63.74 percent complete\n",
            "03:25:59.81 63.85 percent complete\n",
            "03:26:21.11 63.96 percent complete\n",
            "03:26:43.14 64.08 percent complete\n",
            "03:27:04.91 64.19 percent complete\n",
            "03:27:26.32 64.30 percent complete\n",
            "03:27:47.95 64.41 percent complete\n",
            "03:28:09.93 64.53 percent complete\n",
            "03:28:31.71 64.64 percent complete\n"
          ]
        },
        {
          "output_type": "stream",
          "name": "stderr",
          "text": [
            "WARNING:root:Applied processor reduces input query to empty string, all comparisons will have score 0. [Query: '<']\n"
          ]
        },
        {
          "output_type": "stream",
          "name": "stdout",
          "text": [
            "03:28:53.88 64.75 percent complete\n",
            "03:29:15.63 64.86 percent complete\n",
            "03:29:37.44 64.98 percent complete\n",
            "03:29:59.30 65.09 percent complete\n",
            "03:30:20.89 65.20 percent complete\n",
            "03:30:42.69 65.31 percent complete\n"
          ]
        },
        {
          "output_type": "stream",
          "name": "stderr",
          "text": [
            "WARNING:root:Applied processor reduces input query to empty string, all comparisons will have score 0. [Query: '← ← ← ← ← ← ← ← ← ←']\n"
          ]
        },
        {
          "output_type": "stream",
          "name": "stdout",
          "text": [
            "03:31:04.14 65.43 percent complete\n",
            "03:31:25.95 65.54 percent complete\n",
            "03:31:47.57 65.65 percent complete\n",
            "03:32:08.82 65.76 percent complete\n",
            "03:32:31.27 65.88 percent complete\n",
            "03:32:53.06 65.99 percent complete\n",
            "03:33:15.03 66.10 percent complete\n",
            "03:33:36.37 66.21 percent complete\n",
            "03:33:58.34 66.32 percent complete\n",
            "03:34:20.10 66.44 percent complete\n",
            "03:34:42.07 66.55 percent complete\n"
          ]
        },
        {
          "output_type": "stream",
          "name": "stderr",
          "text": [
            "WARNING:root:Applied processor reduces input query to empty string, all comparisons will have score 0. [Query: '←']\n"
          ]
        },
        {
          "output_type": "stream",
          "name": "stdout",
          "text": [
            "03:35:03.78 66.66 percent complete\n",
            "03:35:25.40 66.77 percent complete\n",
            "03:35:46.80 66.89 percent complete\n"
          ]
        },
        {
          "output_type": "stream",
          "name": "stderr",
          "text": [
            "WARNING:root:Applied processor reduces input query to empty string, all comparisons will have score 0. [Query: '●']\n"
          ]
        },
        {
          "output_type": "stream",
          "name": "stdout",
          "text": [
            "03:36:08.57 67.00 percent complete\n",
            "03:36:30.39 67.11 percent complete\n",
            "03:36:52.07 67.22 percent complete\n"
          ]
        },
        {
          "output_type": "stream",
          "name": "stderr",
          "text": [
            "WARNING:root:Applied processor reduces input query to empty string, all comparisons will have score 0. [Query: '․ ․ ․ ․ ․ ․ ․ ․ ․ ․']\n"
          ]
        },
        {
          "output_type": "stream",
          "name": "stdout",
          "text": [
            "03:37:13.77 67.34 percent complete\n",
            "03:37:35.73 67.45 percent complete\n",
            "03:37:57.43 67.56 percent complete\n",
            "03:38:19.16 67.67 percent complete\n",
            "03:38:41.04 67.79 percent complete\n",
            "03:39:02.64 67.90 percent complete\n",
            "03:39:24.39 68.01 percent complete\n",
            "03:39:45.54 68.12 percent complete\n",
            "03:40:07.17 68.24 percent complete\n",
            "03:40:28.98 68.35 percent complete\n",
            "03:40:51.12 68.46 percent complete\n",
            "03:41:12.51 68.57 percent complete\n",
            "03:41:34.63 68.69 percent complete\n",
            "03:41:56.62 68.80 percent complete\n",
            "03:42:18.20 68.91 percent complete\n",
            "03:42:39.95 69.02 percent complete\n",
            "03:43:02.22 69.14 percent complete\n",
            "03:43:24.14 69.25 percent complete\n",
            "03:43:45.59 69.36 percent complete\n",
            "03:44:08.04 69.47 percent complete\n",
            "03:44:30.20 69.58 percent complete\n",
            "03:44:52.09 69.70 percent complete\n",
            "03:45:13.72 69.81 percent complete\n",
            "03:45:35.56 69.92 percent complete\n",
            "03:45:56.84 70.03 percent complete\n",
            "03:46:18.48 70.15 percent complete\n",
            "03:46:40.20 70.26 percent complete\n",
            "03:47:01.82 70.37 percent complete\n",
            "03:47:23.59 70.48 percent complete\n",
            "03:47:45.39 70.60 percent complete\n",
            "03:48:06.96 70.71 percent complete\n",
            "03:48:28.68 70.82 percent complete\n",
            "03:48:51.11 70.93 percent complete\n",
            "03:49:13.01 71.05 percent complete\n",
            "03:49:34.73 71.16 percent complete\n",
            "03:49:56.44 71.27 percent complete\n",
            "03:50:18.18 71.38 percent complete\n",
            "03:50:39.36 71.50 percent complete\n",
            "03:51:01.02 71.61 percent complete\n",
            "03:51:23.04 71.72 percent complete\n",
            "03:51:44.38 71.83 percent complete\n"
          ]
        },
        {
          "output_type": "stream",
          "name": "stderr",
          "text": [
            "WARNING:root:Applied processor reduces input query to empty string, all comparisons will have score 0. [Query: '. . .']\n"
          ]
        },
        {
          "output_type": "stream",
          "name": "stdout",
          "text": [
            "03:52:06.51 71.95 percent complete\n",
            "03:52:28.28 72.06 percent complete\n",
            "03:52:49.81 72.17 percent complete\n",
            "03:53:11.87 72.28 percent complete\n",
            "03:53:33.97 72.40 percent complete\n",
            "03:53:55.46 72.51 percent complete\n",
            "03:54:17.71 72.62 percent complete\n",
            "03:54:39.33 72.73 percent complete\n",
            "03:55:01.36 72.84 percent complete\n",
            "03:55:23.69 72.96 percent complete\n",
            "03:55:45.83 73.07 percent complete\n",
            "03:56:07.72 73.18 percent complete\n",
            "03:56:29.68 73.29 percent complete\n",
            "03:56:52.02 73.41 percent complete\n",
            "03:57:13.75 73.52 percent complete\n",
            "03:57:35.71 73.63 percent complete\n",
            "03:57:57.29 73.74 percent complete\n",
            "03:58:19.39 73.86 percent complete\n",
            "03:58:40.67 73.97 percent complete\n",
            "03:59:02.56 74.08 percent complete\n"
          ]
        },
        {
          "output_type": "stream",
          "name": "stderr",
          "text": [
            "WARNING:root:Applied processor reduces input query to empty string, all comparisons will have score 0. [Query: '(…)']\n"
          ]
        },
        {
          "output_type": "stream",
          "name": "stdout",
          "text": [
            "03:59:24.03 74.19 percent complete\n",
            "03:59:46.15 74.31 percent complete\n",
            "04:00:08.04 74.42 percent complete\n",
            "04:00:29.89 74.53 percent complete\n",
            "04:00:51.27 74.64 percent complete\n",
            "04:01:13.03 74.76 percent complete\n",
            "04:01:34.71 74.87 percent complete\n",
            "04:01:56.77 74.98 percent complete\n",
            "04:02:19.27 75.09 percent complete\n",
            "04:02:41.28 75.21 percent complete\n",
            "04:03:02.98 75.32 percent complete\n",
            "04:03:24.64 75.43 percent complete\n",
            "04:03:46.84 75.54 percent complete\n",
            "04:04:08.71 75.66 percent complete\n",
            "04:04:30.56 75.77 percent complete\n",
            "04:04:52.76 75.88 percent complete\n",
            "04:05:14.64 75.99 percent complete\n",
            "04:05:36.75 76.10 percent complete\n",
            "04:05:58.08 76.22 percent complete\n",
            "04:06:19.77 76.33 percent complete\n",
            "04:06:41.43 76.44 percent complete\n",
            "04:07:03.02 76.55 percent complete\n",
            "04:07:24.39 76.67 percent complete\n",
            "04:07:46.10 76.78 percent complete\n",
            "04:08:07.70 76.89 percent complete\n",
            "04:08:29.57 77.00 percent complete\n",
            "04:08:51.31 77.12 percent complete\n",
            "04:09:13.15 77.23 percent complete\n",
            "04:09:34.46 77.34 percent complete\n",
            "04:09:56.22 77.45 percent complete\n",
            "04:10:17.90 77.57 percent complete\n",
            "04:10:39.68 77.68 percent complete\n",
            "04:11:01.39 77.79 percent complete\n",
            "04:11:22.83 77.90 percent complete\n",
            "04:11:44.65 78.02 percent complete\n",
            "04:12:06.50 78.13 percent complete\n",
            "04:12:27.33 78.24 percent complete\n",
            "04:12:49.04 78.35 percent complete\n",
            "04:13:10.87 78.47 percent complete\n",
            "04:13:32.91 78.58 percent complete\n",
            "04:13:54.82 78.69 percent complete\n",
            "04:14:16.65 78.80 percent complete\n",
            "04:14:38.40 78.92 percent complete\n",
            "04:15:00.39 79.03 percent complete\n",
            "04:15:22.31 79.14 percent complete\n",
            "04:15:44.41 79.25 percent complete\n",
            "04:16:06.00 79.36 percent complete\n",
            "04:16:27.46 79.48 percent complete\n",
            "04:16:48.61 79.59 percent complete\n",
            "04:17:10.42 79.70 percent complete\n",
            "04:17:32.62 79.81 percent complete\n",
            "04:17:54.23 79.93 percent complete\n",
            "04:18:16.20 80.04 percent complete\n",
            "04:18:37.87 80.15 percent complete\n",
            "04:18:59.55 80.26 percent complete\n",
            "04:19:21.97 80.38 percent complete\n",
            "04:19:43.37 80.49 percent complete\n",
            "04:20:04.84 80.60 percent complete\n",
            "04:20:26.95 80.71 percent complete\n",
            "04:20:48.76 80.83 percent complete\n",
            "04:21:10.07 80.94 percent complete\n",
            "04:21:31.69 81.05 percent complete\n",
            "04:21:53.32 81.16 percent complete\n",
            "04:22:14.93 81.28 percent complete\n",
            "04:22:36.57 81.39 percent complete\n",
            "04:22:58.39 81.50 percent complete\n",
            "04:23:19.79 81.61 percent complete\n",
            "04:23:41.55 81.73 percent complete\n",
            "04:24:03.76 81.84 percent complete\n",
            "04:24:25.42 81.95 percent complete\n",
            "04:24:46.95 82.06 percent complete\n",
            "04:25:08.03 82.18 percent complete\n",
            "04:25:29.70 82.29 percent complete\n",
            "04:25:51.35 82.40 percent complete\n",
            "04:26:12.49 82.51 percent complete\n",
            "04:26:33.95 82.63 percent complete\n",
            "04:26:55.54 82.74 percent complete\n",
            "04:27:17.31 82.85 percent complete\n",
            "04:27:39.01 82.96 percent complete\n",
            "04:28:00.39 83.07 percent complete\n"
          ]
        },
        {
          "output_type": "stream",
          "name": "stderr",
          "text": [
            "WARNING:root:Applied processor reduces input query to empty string, all comparisons will have score 0. [Query: '↑']\n"
          ]
        },
        {
          "output_type": "stream",
          "name": "stdout",
          "text": [
            "04:28:22.26 83.19 percent complete\n",
            "04:28:43.98 83.30 percent complete\n",
            "04:29:05.91 83.41 percent complete\n",
            "04:29:27.79 83.52 percent complete\n",
            "04:29:49.69 83.64 percent complete\n",
            "04:30:11.97 83.75 percent complete\n"
          ]
        },
        {
          "output_type": "stream",
          "name": "stderr",
          "text": [
            "WARNING:root:Applied processor reduces input query to empty string, all comparisons will have score 0. [Query: '‎']\n"
          ]
        },
        {
          "output_type": "stream",
          "name": "stdout",
          "text": [
            "04:30:33.70 83.86 percent complete\n",
            "04:30:55.93 83.97 percent complete\n",
            "04:31:17.73 84.09 percent complete\n",
            "04:31:39.84 84.20 percent complete\n",
            "04:32:02.05 84.31 percent complete\n",
            "04:32:23.50 84.42 percent complete\n"
          ]
        },
        {
          "output_type": "stream",
          "name": "stderr",
          "text": [
            "WARNING:root:Applied processor reduces input query to empty string, all comparisons will have score 0. [Query: '***']\n"
          ]
        },
        {
          "output_type": "stream",
          "name": "stdout",
          "text": [
            "04:32:45.43 84.54 percent complete\n",
            "04:33:06.78 84.65 percent complete\n",
            "04:33:28.65 84.76 percent complete\n",
            "04:33:50.47 84.87 percent complete\n",
            "04:34:12.61 84.99 percent complete\n",
            "04:34:34.09 85.10 percent complete\n",
            "04:34:55.57 85.21 percent complete\n",
            "04:35:17.79 85.32 percent complete\n",
            "04:35:39.79 85.44 percent complete\n",
            "04:36:01.56 85.55 percent complete\n",
            "04:36:23.04 85.66 percent complete\n",
            "04:36:44.44 85.77 percent complete\n",
            "04:37:06.52 85.89 percent complete\n",
            "04:37:28.45 86.00 percent complete\n",
            "04:37:49.99 86.11 percent complete\n",
            "04:38:11.83 86.22 percent complete\n",
            "04:38:33.23 86.33 percent complete\n",
            "04:38:54.90 86.45 percent complete\n",
            "04:39:16.52 86.56 percent complete\n",
            "04:39:38.33 86.67 percent complete\n",
            "04:39:59.83 86.78 percent complete\n",
            "04:40:21.59 86.90 percent complete\n",
            "04:40:43.17 87.01 percent complete\n"
          ]
        },
        {
          "output_type": "stream",
          "name": "stderr",
          "text": [
            "WARNING:root:Applied processor reduces input query to empty string, all comparisons will have score 0. [Query: '--']\n"
          ]
        },
        {
          "output_type": "stream",
          "name": "stdout",
          "text": [
            "04:41:05.26 87.12 percent complete\n",
            "04:41:26.70 87.23 percent complete\n",
            "04:41:47.84 87.35 percent complete\n",
            "04:42:09.14 87.46 percent complete\n",
            "04:42:30.69 87.57 percent complete\n",
            "04:42:52.10 87.68 percent complete\n",
            "04:43:13.86 87.80 percent complete\n",
            "04:43:35.28 87.91 percent complete\n",
            "04:43:57.62 88.02 percent complete\n",
            "04:44:18.97 88.13 percent complete\n",
            "04:44:40.16 88.25 percent complete\n",
            "04:45:02.58 88.36 percent complete\n",
            "04:45:24.51 88.47 percent complete\n",
            "04:45:46.17 88.58 percent complete\n",
            "04:46:07.92 88.70 percent complete\n",
            "04:46:29.46 88.81 percent complete\n",
            "04:46:50.85 88.92 percent complete\n",
            "04:47:12.55 89.03 percent complete\n",
            "04:47:34.86 89.15 percent complete\n",
            "04:47:56.99 89.26 percent complete\n",
            "04:48:18.00 89.37 percent complete\n",
            "04:48:39.23 89.48 percent complete\n",
            "04:49:00.77 89.59 percent complete\n",
            "04:49:22.28 89.71 percent complete\n",
            "04:49:43.61 89.82 percent complete\n",
            "04:50:04.86 89.93 percent complete\n",
            "04:50:26.56 90.04 percent complete\n",
            "04:50:48.44 90.16 percent complete\n",
            "04:51:10.02 90.27 percent complete\n",
            "04:51:31.78 90.38 percent complete\n",
            "04:51:53.38 90.49 percent complete\n",
            "04:52:15.47 90.61 percent complete\n"
          ]
        },
        {
          "output_type": "stream",
          "name": "stderr",
          "text": [
            "WARNING:root:Applied processor reduces input query to empty string, all comparisons will have score 0. [Query: '→']\n"
          ]
        },
        {
          "output_type": "stream",
          "name": "stdout",
          "text": [
            "04:52:37.17 90.72 percent complete\n",
            "04:52:58.85 90.83 percent complete\n",
            "04:53:20.20 90.94 percent complete\n",
            "04:53:42.17 91.06 percent complete\n",
            "04:54:03.59 91.17 percent complete\n",
            "04:54:25.11 91.28 percent complete\n",
            "04:54:46.74 91.39 percent complete\n",
            "04:55:08.71 91.51 percent complete\n",
            "04:55:30.24 91.62 percent complete\n",
            "04:55:51.84 91.73 percent complete\n",
            "04:56:13.35 91.84 percent complete\n",
            "04:56:34.87 91.96 percent complete\n",
            "04:56:56.13 92.07 percent complete\n",
            "04:57:18.13 92.18 percent complete\n",
            "04:57:40.17 92.29 percent complete\n",
            "04:58:00.93 92.41 percent complete\n",
            "04:58:23.04 92.52 percent complete\n",
            "04:58:44.99 92.63 percent complete\n",
            "04:59:07.16 92.74 percent complete\n",
            "04:59:28.31 92.85 percent complete\n",
            "04:59:50.14 92.97 percent complete\n",
            "05:00:12.03 93.08 percent complete\n",
            "05:00:33.68 93.19 percent complete\n",
            "05:00:55.19 93.30 percent complete\n",
            "05:01:17.65 93.42 percent complete\n"
          ]
        },
        {
          "output_type": "stream",
          "name": "stderr",
          "text": [
            "WARNING:root:Applied processor reduces input query to empty string, all comparisons will have score 0. [Query: '\\']\n"
          ]
        },
        {
          "output_type": "stream",
          "name": "stdout",
          "text": [
            "05:01:39.23 93.53 percent complete\n",
            "05:02:01.08 93.64 percent complete\n",
            "05:02:22.79 93.75 percent complete\n",
            "05:02:44.89 93.87 percent complete\n",
            "05:03:06.78 93.98 percent complete\n",
            "05:03:28.88 94.09 percent complete\n",
            "05:03:50.50 94.20 percent complete\n",
            "05:04:12.42 94.32 percent complete\n",
            "05:04:33.74 94.43 percent complete\n",
            "05:04:54.70 94.54 percent complete\n",
            "05:05:16.71 94.65 percent complete\n",
            "05:05:38.37 94.77 percent complete\n",
            "05:05:59.35 94.88 percent complete\n",
            "05:06:21.46 94.99 percent complete\n",
            "05:06:43.66 95.10 percent complete\n",
            "05:07:05.11 95.22 percent complete\n",
            "05:07:26.80 95.33 percent complete\n",
            "05:07:48.68 95.44 percent complete\n",
            "05:08:09.91 95.55 percent complete\n",
            "05:08:31.77 95.67 percent complete\n",
            "05:08:53.10 95.78 percent complete\n",
            "05:09:14.68 95.89 percent complete\n",
            "05:09:36.63 96.00 percent complete\n",
            "05:09:58.43 96.11 percent complete\n",
            "05:10:20.21 96.23 percent complete\n",
            "05:10:42.03 96.34 percent complete\n",
            "05:11:03.69 96.45 percent complete\n",
            "05:11:25.19 96.56 percent complete\n",
            "05:11:46.40 96.68 percent complete\n",
            "05:12:08.01 96.79 percent complete\n",
            "05:12:30.09 96.90 percent complete\n",
            "05:12:51.74 97.01 percent complete\n",
            "05:13:13.60 97.13 percent complete\n",
            "05:13:35.28 97.24 percent complete\n",
            "05:13:56.96 97.35 percent complete\n",
            "05:14:18.94 97.46 percent complete\n",
            "05:14:41.07 97.58 percent complete\n"
          ]
        },
        {
          "output_type": "stream",
          "name": "stderr",
          "text": [
            "WARNING:root:Applied processor reduces input query to empty string, all comparisons will have score 0. [Query: '$ ․ ․ ․ ․ ․']\n"
          ]
        },
        {
          "output_type": "stream",
          "name": "stdout",
          "text": [
            "05:15:02.54 97.69 percent complete\n",
            "05:15:23.57 97.80 percent complete\n",
            "05:15:45.51 97.91 percent complete\n",
            "05:16:06.80 98.03 percent complete\n",
            "05:16:28.52 98.14 percent complete\n",
            "05:16:50.39 98.25 percent complete\n",
            "05:17:11.52 98.36 percent complete\n",
            "05:17:33.51 98.48 percent complete\n",
            "05:17:55.57 98.59 percent complete\n",
            "05:18:17.29 98.70 percent complete\n",
            "05:18:38.84 98.81 percent complete\n",
            "05:19:00.31 98.93 percent complete\n",
            "05:19:21.87 99.04 percent complete\n",
            "05:19:43.12 99.15 percent complete\n",
            "05:20:05.52 99.26 percent complete\n",
            "05:20:27.41 99.37 percent complete\n",
            "05:20:48.76 99.49 percent complete\n",
            "05:21:10.79 99.60 percent complete\n",
            "05:21:32.23 99.71 percent complete\n",
            "05:21:53.78 99.82 percent complete\n",
            "05:22:14.95 99.94 percent complete\n"
          ]
        }
      ]
    },
    {
      "cell_type": "code",
      "metadata": {
        "id": "kv8FLXbQASlP",
        "colab": {
          "base_uri": "https://localhost:8080/"
        },
        "outputId": "4f96a386-508a-427e-bbcc-fb92712ae1a2"
      },
      "source": [
        "# This section does the split between train/dev for the parallel corpora then saves them as separate files\n",
        "# We use 1000 dev test and the given test set.\n",
        "import csv\n",
        "\n",
        "# TODO: if your corpus is smaller than 1000, reduce this number. With a corpus that small you might not obtain good results with NMT though :/\n",
        "# Do the split between dev/train and create parallel corpora\n",
        "num_dev_patterns = 1000\n",
        "\n",
        "# Optional: lower case the corpora - this will make it easier to generalize, but without proper casing.\n",
        "if lc:  # Julia: making lowercasing optional\n",
        "    df_pp[\"source_sentence\"] = df_pp[\"source_sentence\"].str.lower()\n",
        "    df_pp[\"target_sentence\"] = df_pp[\"target_sentence\"].str.lower()\n",
        "\n",
        "# Julia: test sets are already generated\n",
        "dev = df_pp.tail(num_dev_patterns) # Herman: Error in original\n",
        "stripped = df_pp.drop(df_pp.tail(num_dev_patterns).index)\n",
        "\n",
        "\n",
        "with open(\"train.\"+source_language, \"w\") as src_file, open(\"train.\"+target_language, \"w\") as trg_file:\n",
        "  for index, row in stripped.iterrows():\n",
        "    src_file.write(str(row[\"source_sentence\"])+\"\\n\")\n",
        "    trg_file.write(str(row[\"target_sentence\"])+\"\\n\")\n",
        "    \n",
        "with open(\"dev.\"+source_language, \"w\") as src_file, open(\"dev.\"+target_language, \"w\") as trg_file:\n",
        "  for index, row in dev.iterrows():\n",
        "    src_file.write(str(row[\"source_sentence\"])+\"\\n\")\n",
        "    trg_file.write(str(row[\"target_sentence\"])+\"\\n\")\n",
        "\n",
        "#stripped[[\"source_sentence\"]].to_csv(\"train.\"+source_language, header=False, index=False)  # Herman: Added `header=False` everywhere\n",
        "#stripped[[\"target_sentence\"]].to_csv(\"train.\"+target_language, header=False, index=False)  # Julia: Problematic handling of quotation marks.\n",
        "\n",
        "#dev[[\"source_sentence\"]].to_csv(\"dev.\"+source_language, header=False, index=False)\n",
        "#dev[[\"target_sentence\"]].to_csv(\"dev.\"+target_language, header=False, index=False)\n",
        "\n",
        "\n",
        "# TODO: Doublecheck the format below. There should be no extra quotation marks or weird characters. It should also not be empty.\n",
        "! head train.*\n",
        "! head dev.*"
      ],
      "execution_count": null,
      "outputs": [
        {
          "output_type": "stream",
          "name": "stdout",
          "text": [
            "==> train.en <==\n",
            "Our hosts give us a few things to think about .\n",
            "How can the words at John 13 : 17 prove true in connection with Christian weddings and gatherings ?\n",
            "Reveal your concerns gradually .\n",
            "Logically , then , to the extent that Christendom ’ s missionaries advocated democracy and praised the benefits of Western scientific and medical advancement , they came across as agents of colonialism .\n",
            "18 Paul prayed that his fellow believers in Colossae would be filled with the accurate knowledge of God ’ s will in order for them to walk worthily of Jehovah , please him , and bear fruit in every good work .\n",
            "Jaime , a taxi driver in Madrid , Spain , has had to live with traffic jams for over 30 years .\n",
            "Jehovah ’ s Witnesses are helping “ all sorts of men [ to ] be saved and come to an accurate knowledge of truth . ” — 1 Timothy 2 : 4 .\n",
            "By cooperating fully with them — for example , by sharing in necessary work in the Kingdom Hall .\n",
            "( Galatians 6 : 7-9 ) Jehovah will put the wicked “ on slippery ground ” ; he will make them “ fall to ruins . ”\n",
            "He still gives them the power to carry out whatever tasks he has assigned them .\n",
            "\n",
            "==> train.sw <==\n",
            "Wakaribishaji wetu wanatuambia mambo machache ya kufikiria .\n",
            "Maneno ya Yohana 13 : 17 yanaweza kuthibitikaje kuwa ya kweli kuhusiana na arusi za Kikristo na tafrija ?\n",
            "Funua mahangaiko yako hatua kwa hatua .\n",
            "Basi , yaonekana wazi kiakili kwamba kwa kadiri wamishonari wa Jumuiya ya Wakristo walivyotetea demokrasi na kusifu manufaa za maendeleo ya Magharibi ya kisayansi na kitiba , ndivyo walivyokuja kuonwa kuwa mawakili wa ukoloni .\n",
            "18 Paulo alisali kwamba waamini wenzake katika Kolosai wangejazwa na maarifa sahihi ya mapenzi ya Mungu ili watembee inavyomstahili Yehova , wampendeze , wazae matunda katika kila kazi njema .\n",
            "Jaime , dereva wa teksi huko Madrid , Hispania , amekabiliana na msongamano wa magari kwa zaidi ya miaka 30 .\n",
            "Mashahidi wa Yehova husaidia “ watu wote [ wa aina zote , NW ] waokolewe , na kupata kujua yaliyo kweli . ” — 1 Timotheo 2 : 4 .\n",
            "Kwa kushirikiana kikamili nao — kwa mfano , kwa kushiriki katika kazi inayohitajiwa katika Jumba la Ufalme .\n",
            "( Wagalatia 6 : 7 - 9 ) Yehova atawaweka waovu “ penye utelezi ” ; na kuwaangusha “ mpaka palipoharibika . ”\n",
            "Yeye angali anawapa uwezo wa kutimiza kazi yoyote ile ambayo yeye huwagawia .\n",
            "==> dev.en <==\n",
            "Such problems are common today .\n",
            "Besides physical problems , says Dr. Cahan , the children may have “ behavioral problems , impaired reading abilities , hyperactivity and mental retardation . ”\n",
            "What challenges have some “ need greaters ” faced ?\n",
            "Is it arrogant of me to wonder why an entire population acquired cell phones before they had access to a successful public health strategy for a preventable disease?\"\n",
            "On arrival Bligh was to take on board a company of very unusual “ passengers ” — close to 1,000 breadfruit tree saplings .\n",
            "[ River ]\n",
            "There were once 500 to 600 breeding pairs at the Birecik colony , but the population was dealt a heavy blow when agricultural pesticides were introduced in the 1950 ’ s .\n",
            "In 1915 she said that she always found it surprising that many Bible Students expected to be taken to heaven soon .\n",
            "The mention of a Samaritan no doubt heightened the lawyer ’ s curiosity .\n",
            "What do you think it will be like on earth when the Prince of Peace and his chosen 144,000 are rulers ? — It will be wonderful !\n",
            "\n",
            "==> dev.sw <==\n",
            "Leo kuna watu wengi walio na matatizo kama hayo .\n",
            "Zaidi ya matatizo ya kimwili , asema Dakt . Cahan , huenda watoto hao wakawa na “ matatizo ya kitabia , kasoro za uwezo wa kusoma , utendaji mwingi kupita kiasi na kukawia kwa ukuzi wa kiakili . ”\n",
            "Baadhi ya ndugu na dada waliohamia maeneo yenye uhitaji mkubwa zaidi wa wahubiri walikabili changamoto gani ?\n",
            "Je dharau kwa upande wangu kuhoji kwa nini umma mzima umiliki simu za mkononi kabla ya kunufaika na mkakati wa kinga ya afya kupingana na ugonjwa unaoweza kuzuilika?\"\n",
            "Ilipowasili Tahiti , meli hiyo ilibeba “ abiria ” wasio wa kawaida — karibu miche 1,000 ya mshelisheli .\n",
            "[ River ]\n",
            "Wakati mmoja kulikuwa na wenzi 500 au 600 huko Birecik , lakini katika miaka ya 1950 idadi hiyo ilipungua sana kwa sababu ya matumizi ya dawa za kuua wadudu .\n",
            "Katika mwaka wa 1915 , alisema kwamba alishangazwa na wazo la kwamba Wanafunzi wengi wa Biblia walitarajia kuchukuliwa kwenda mbinguni baada ya muda mfupi .\n",
            "Bila shaka kutajwa kwa Msamaria kuliongeza udadisi wa huyo mwanasheria .\n",
            "Unafikiri hali zitakuwa namna gani duniani wakati Mkuu wa Amani na wale 144,000 aliowachagua watakapotawala ? — Hali zitakuwa nzuri wee !\n"
          ]
        }
      ]
    },
    {
      "cell_type": "markdown",
      "metadata": {
        "id": "jFRGPo-vAswc"
      },
      "source": [
        "Installatiom of JOEY NMT"
      ]
    },
    {
      "cell_type": "code",
      "metadata": {
        "id": "5heERgMXAswc",
        "colab": {
          "base_uri": "https://localhost:8080/"
        },
        "outputId": "040c1cc0-1b23-44f4-ab98-cac03761ff69"
      },
      "source": [
        "# Install JoeyNMT\n",
        "! git clone https://github.com/joeynmt/joeynmt.git\n",
        "! cd joeynmt; pip3 install ."
      ],
      "execution_count": null,
      "outputs": [
        {
          "output_type": "stream",
          "name": "stdout",
          "text": [
            "Cloning into 'joeynmt'...\n",
            "remote: Enumerating objects: 3224, done.\u001b[K\n",
            "remote: Counting objects: 100% (273/273), done.\u001b[K\n",
            "remote: Compressing objects: 100% (139/139), done.\u001b[K\n",
            "remote: Total 3224 (delta 157), reused 206 (delta 134), pack-reused 2951\u001b[K\n",
            "Receiving objects: 100% (3224/3224), 8.17 MiB | 18.67 MiB/s, done.\n",
            "Resolving deltas: 100% (2186/2186), done.\n",
            "Processing /content/joeynmt\n",
            "\u001b[33m  DEPRECATION: A future pip version will change local packages to be built in-place without first copying to a temporary directory. We recommend you use --use-feature=in-tree-build to test your packages with this new behavior before it becomes the default.\n",
            "   pip 21.3 will remove support for this functionality. You can find discussion regarding this at https://github.com/pypa/pip/issues/7555.\u001b[0m\n",
            "Requirement already satisfied: future in /usr/local/lib/python3.7/dist-packages (from joeynmt==1.3) (0.16.0)\n",
            "Requirement already satisfied: pillow in /usr/local/lib/python3.7/dist-packages (from joeynmt==1.3) (7.1.2)\n",
            "Requirement already satisfied: numpy>=1.19.5 in /usr/local/lib/python3.7/dist-packages (from joeynmt==1.3) (1.19.5)\n",
            "Requirement already satisfied: setuptools>=41.0.0 in /usr/local/lib/python3.7/dist-packages (from joeynmt==1.3) (57.4.0)\n",
            "Requirement already satisfied: torch>=1.9.0 in /usr/local/lib/python3.7/dist-packages (from joeynmt==1.3) (1.9.0+cu111)\n",
            "Requirement already satisfied: tensorboard>=1.15 in /usr/local/lib/python3.7/dist-packages (from joeynmt==1.3) (2.6.0)\n",
            "Requirement already satisfied: torchtext>=0.10.0 in /usr/local/lib/python3.7/dist-packages (from joeynmt==1.3) (0.10.0)\n",
            "Collecting sacrebleu>=2.0.0\n",
            "  Downloading sacrebleu-2.0.0-py3-none-any.whl (90 kB)\n",
            "\u001b[K     |████████████████████████████████| 90 kB 8.7 MB/s \n",
            "\u001b[?25hCollecting subword-nmt\n",
            "  Downloading subword_nmt-0.3.7-py2.py3-none-any.whl (26 kB)\n",
            "Requirement already satisfied: matplotlib in /usr/local/lib/python3.7/dist-packages (from joeynmt==1.3) (3.2.2)\n",
            "Requirement already satisfied: seaborn in /usr/local/lib/python3.7/dist-packages (from joeynmt==1.3) (0.11.2)\n",
            "Collecting pyyaml>=5.1\n",
            "  Downloading PyYAML-6.0-cp37-cp37m-manylinux_2_5_x86_64.manylinux1_x86_64.manylinux_2_12_x86_64.manylinux2010_x86_64.whl (596 kB)\n",
            "\u001b[K     |████████████████████████████████| 596 kB 60.2 MB/s \n",
            "\u001b[?25hCollecting pylint>=2.9.6\n",
            "  Downloading pylint-2.11.1-py3-none-any.whl (392 kB)\n",
            "\u001b[K     |████████████████████████████████| 392 kB 34.0 MB/s \n",
            "\u001b[?25hCollecting six==1.12\n",
            "  Downloading six-1.12.0-py2.py3-none-any.whl (10 kB)\n",
            "Collecting wrapt==1.11.1\n",
            "  Downloading wrapt-1.11.1.tar.gz (27 kB)\n",
            "Collecting typing-extensions>=3.10.0\n",
            "  Downloading typing_extensions-3.10.0.2-py3-none-any.whl (26 kB)\n",
            "Collecting astroid<2.9,>=2.8.0\n",
            "  Downloading astroid-2.8.3-py3-none-any.whl (246 kB)\n",
            "\u001b[K     |████████████████████████████████| 246 kB 49.2 MB/s \n",
            "\u001b[?25hCollecting platformdirs>=2.2.0\n",
            "  Downloading platformdirs-2.4.0-py3-none-any.whl (14 kB)\n",
            "Requirement already satisfied: toml>=0.7.1 in /usr/local/lib/python3.7/dist-packages (from pylint>=2.9.6->joeynmt==1.3) (0.10.2)\n",
            "Collecting mccabe<0.7,>=0.6\n",
            "  Downloading mccabe-0.6.1-py2.py3-none-any.whl (8.6 kB)\n",
            "Collecting isort<6,>=4.2.5\n",
            "  Downloading isort-5.9.3-py3-none-any.whl (106 kB)\n",
            "\u001b[K     |████████████████████████████████| 106 kB 63.6 MB/s \n",
            "\u001b[?25hCollecting typed-ast<1.5,>=1.4.0\n",
            "  Downloading typed_ast-1.4.3-cp37-cp37m-manylinux1_x86_64.whl (743 kB)\n",
            "\u001b[K     |████████████████████████████████| 743 kB 45.9 MB/s \n",
            "\u001b[?25hCollecting lazy-object-proxy>=1.4.0\n",
            "  Downloading lazy_object_proxy-1.6.0-cp37-cp37m-manylinux1_x86_64.whl (55 kB)\n",
            "\u001b[K     |████████████████████████████████| 55 kB 3.6 MB/s \n",
            "\u001b[?25hCollecting colorama\n",
            "  Downloading colorama-0.4.4-py2.py3-none-any.whl (16 kB)\n",
            "Collecting portalocker\n",
            "  Downloading portalocker-2.3.2-py2.py3-none-any.whl (15 kB)\n",
            "Requirement already satisfied: tabulate>=0.8.9 in /usr/local/lib/python3.7/dist-packages (from sacrebleu>=2.0.0->joeynmt==1.3) (0.8.9)\n",
            "Requirement already satisfied: regex in /usr/local/lib/python3.7/dist-packages (from sacrebleu>=2.0.0->joeynmt==1.3) (2019.12.20)\n",
            "Requirement already satisfied: google-auth<2,>=1.6.3 in /usr/local/lib/python3.7/dist-packages (from tensorboard>=1.15->joeynmt==1.3) (1.35.0)\n",
            "Requirement already satisfied: google-auth-oauthlib<0.5,>=0.4.1 in /usr/local/lib/python3.7/dist-packages (from tensorboard>=1.15->joeynmt==1.3) (0.4.6)\n",
            "Requirement already satisfied: werkzeug>=0.11.15 in /usr/local/lib/python3.7/dist-packages (from tensorboard>=1.15->joeynmt==1.3) (1.0.1)\n",
            "Requirement already satisfied: grpcio>=1.24.3 in /usr/local/lib/python3.7/dist-packages (from tensorboard>=1.15->joeynmt==1.3) (1.41.0)\n",
            "Requirement already satisfied: requests<3,>=2.21.0 in /usr/local/lib/python3.7/dist-packages (from tensorboard>=1.15->joeynmt==1.3) (2.23.0)\n",
            "Requirement already satisfied: tensorboard-data-server<0.7.0,>=0.6.0 in /usr/local/lib/python3.7/dist-packages (from tensorboard>=1.15->joeynmt==1.3) (0.6.1)\n",
            "Requirement already satisfied: markdown>=2.6.8 in /usr/local/lib/python3.7/dist-packages (from tensorboard>=1.15->joeynmt==1.3) (3.3.4)\n",
            "Requirement already satisfied: wheel>=0.26 in /usr/local/lib/python3.7/dist-packages (from tensorboard>=1.15->joeynmt==1.3) (0.37.0)\n",
            "Requirement already satisfied: protobuf>=3.6.0 in /usr/local/lib/python3.7/dist-packages (from tensorboard>=1.15->joeynmt==1.3) (3.17.3)\n",
            "Requirement already satisfied: tensorboard-plugin-wit>=1.6.0 in /usr/local/lib/python3.7/dist-packages (from tensorboard>=1.15->joeynmt==1.3) (1.8.0)\n",
            "Requirement already satisfied: absl-py>=0.4 in /usr/local/lib/python3.7/dist-packages (from tensorboard>=1.15->joeynmt==1.3) (0.12.0)\n",
            "Requirement already satisfied: rsa<5,>=3.1.4 in /usr/local/lib/python3.7/dist-packages (from google-auth<2,>=1.6.3->tensorboard>=1.15->joeynmt==1.3) (4.7.2)\n",
            "Requirement already satisfied: pyasn1-modules>=0.2.1 in /usr/local/lib/python3.7/dist-packages (from google-auth<2,>=1.6.3->tensorboard>=1.15->joeynmt==1.3) (0.2.8)\n",
            "Requirement already satisfied: cachetools<5.0,>=2.0.0 in /usr/local/lib/python3.7/dist-packages (from google-auth<2,>=1.6.3->tensorboard>=1.15->joeynmt==1.3) (4.2.4)\n",
            "Requirement already satisfied: requests-oauthlib>=0.7.0 in /usr/local/lib/python3.7/dist-packages (from google-auth-oauthlib<0.5,>=0.4.1->tensorboard>=1.15->joeynmt==1.3) (1.3.0)\n",
            "Requirement already satisfied: importlib-metadata in /usr/local/lib/python3.7/dist-packages (from markdown>=2.6.8->tensorboard>=1.15->joeynmt==1.3) (4.8.1)\n",
            "Requirement already satisfied: pyasn1<0.5.0,>=0.4.6 in /usr/local/lib/python3.7/dist-packages (from pyasn1-modules>=0.2.1->google-auth<2,>=1.6.3->tensorboard>=1.15->joeynmt==1.3) (0.4.8)\n",
            "Requirement already satisfied: chardet<4,>=3.0.2 in /usr/local/lib/python3.7/dist-packages (from requests<3,>=2.21.0->tensorboard>=1.15->joeynmt==1.3) (3.0.4)\n",
            "Requirement already satisfied: idna<3,>=2.5 in /usr/local/lib/python3.7/dist-packages (from requests<3,>=2.21.0->tensorboard>=1.15->joeynmt==1.3) (2.10)\n",
            "Requirement already satisfied: urllib3!=1.25.0,!=1.25.1,<1.26,>=1.21.1 in /usr/local/lib/python3.7/dist-packages (from requests<3,>=2.21.0->tensorboard>=1.15->joeynmt==1.3) (1.24.3)\n",
            "Requirement already satisfied: certifi>=2017.4.17 in /usr/local/lib/python3.7/dist-packages (from requests<3,>=2.21.0->tensorboard>=1.15->joeynmt==1.3) (2021.5.30)\n",
            "Requirement already satisfied: oauthlib>=3.0.0 in /usr/local/lib/python3.7/dist-packages (from requests-oauthlib>=0.7.0->google-auth-oauthlib<0.5,>=0.4.1->tensorboard>=1.15->joeynmt==1.3) (3.1.1)\n",
            "Requirement already satisfied: tqdm in /usr/local/lib/python3.7/dist-packages (from torchtext>=0.10.0->joeynmt==1.3) (4.62.3)\n",
            "Requirement already satisfied: zipp>=0.5 in /usr/local/lib/python3.7/dist-packages (from importlib-metadata->markdown>=2.6.8->tensorboard>=1.15->joeynmt==1.3) (3.6.0)\n",
            "Requirement already satisfied: pyparsing!=2.0.4,!=2.1.2,!=2.1.6,>=2.0.1 in /usr/local/lib/python3.7/dist-packages (from matplotlib->joeynmt==1.3) (2.4.7)\n",
            "Requirement already satisfied: kiwisolver>=1.0.1 in /usr/local/lib/python3.7/dist-packages (from matplotlib->joeynmt==1.3) (1.3.2)\n",
            "Requirement already satisfied: python-dateutil>=2.1 in /usr/local/lib/python3.7/dist-packages (from matplotlib->joeynmt==1.3) (2.8.2)\n",
            "Requirement already satisfied: cycler>=0.10 in /usr/local/lib/python3.7/dist-packages (from matplotlib->joeynmt==1.3) (0.10.0)\n",
            "Requirement already satisfied: scipy>=1.0 in /usr/local/lib/python3.7/dist-packages (from seaborn->joeynmt==1.3) (1.4.1)\n",
            "Requirement already satisfied: pandas>=0.23 in /usr/local/lib/python3.7/dist-packages (from seaborn->joeynmt==1.3) (1.1.5)\n",
            "Requirement already satisfied: pytz>=2017.2 in /usr/local/lib/python3.7/dist-packages (from pandas>=0.23->seaborn->joeynmt==1.3) (2018.9)\n",
            "Building wheels for collected packages: joeynmt, wrapt\n",
            "  Building wheel for joeynmt (setup.py) ... \u001b[?25l\u001b[?25hdone\n",
            "  Created wheel for joeynmt: filename=joeynmt-1.3-py3-none-any.whl size=86029 sha256=964003bd1216c37d132e12f86e70d1e1d1d4b75665eb4f6af20a32289bfb7a35\n",
            "  Stored in directory: /tmp/pip-ephem-wheel-cache-ykaw_20v/wheels/0a/f4/bf/6c9d3b8efbfece6cd209f865be37382b02e7c3584df2e28ca4\n",
            "  Building wheel for wrapt (setup.py) ... \u001b[?25l\u001b[?25hdone\n",
            "  Created wheel for wrapt: filename=wrapt-1.11.1-cp37-cp37m-linux_x86_64.whl size=68434 sha256=373648b376fd841c66ee55dfda790ff3f712351f9b934707f490529f218b9e5a\n",
            "  Stored in directory: /root/.cache/pip/wheels/4e/58/9d/da8bad4545585ca52311498ff677647c95c7b690b3040171f8\n",
            "Successfully built joeynmt wrapt\n",
            "Installing collected packages: typing-extensions, six, wrapt, typed-ast, lazy-object-proxy, portalocker, platformdirs, mccabe, isort, colorama, astroid, subword-nmt, sacrebleu, pyyaml, pylint, joeynmt\n",
            "  Attempting uninstall: typing-extensions\n",
            "    Found existing installation: typing-extensions 3.7.4.3\n",
            "    Uninstalling typing-extensions-3.7.4.3:\n",
            "      Successfully uninstalled typing-extensions-3.7.4.3\n",
            "  Attempting uninstall: six\n",
            "    Found existing installation: six 1.15.0\n",
            "    Uninstalling six-1.15.0:\n",
            "      Successfully uninstalled six-1.15.0\n",
            "  Attempting uninstall: wrapt\n",
            "    Found existing installation: wrapt 1.12.1\n",
            "    Uninstalling wrapt-1.12.1:\n",
            "      Successfully uninstalled wrapt-1.12.1\n",
            "  Attempting uninstall: pyyaml\n",
            "    Found existing installation: PyYAML 3.13\n",
            "    Uninstalling PyYAML-3.13:\n",
            "      Successfully uninstalled PyYAML-3.13\n",
            "\u001b[31mERROR: pip's dependency resolver does not currently take into account all the packages that are installed. This behaviour is the source of the following dependency conflicts.\n",
            "tensorflow 2.6.0 requires six~=1.15.0, but you have six 1.12.0 which is incompatible.\n",
            "tensorflow 2.6.0 requires typing-extensions~=3.7.4, but you have typing-extensions 3.10.0.2 which is incompatible.\n",
            "tensorflow 2.6.0 requires wrapt~=1.12.1, but you have wrapt 1.11.1 which is incompatible.\n",
            "google-colab 1.0.0 requires six~=1.15.0, but you have six 1.12.0 which is incompatible.\n",
            "google-api-python-client 1.12.8 requires six<2dev,>=1.13.0, but you have six 1.12.0 which is incompatible.\n",
            "google-api-core 1.26.3 requires six>=1.13.0, but you have six 1.12.0 which is incompatible.\n",
            "datascience 0.10.6 requires folium==0.2.1, but you have folium 0.8.3 which is incompatible.\n",
            "albumentations 0.1.12 requires imgaug<0.2.7,>=0.2.5, but you have imgaug 0.2.9 which is incompatible.\u001b[0m\n",
            "Successfully installed astroid-2.8.3 colorama-0.4.4 isort-5.9.3 joeynmt-1.3 lazy-object-proxy-1.6.0 mccabe-0.6.1 platformdirs-2.4.0 portalocker-2.3.2 pylint-2.11.1 pyyaml-6.0 sacrebleu-2.0.0 six-1.12.0 subword-nmt-0.3.7 typed-ast-1.4.3 typing-extensions-3.10.0.2 wrapt-1.11.1\n"
          ]
        }
      ]
    },
    {
      "cell_type": "code",
      "metadata": {
        "id": "O-841VwVAswd",
        "colab": {
          "base_uri": "https://localhost:8080/"
        },
        "outputId": "5882b163-fc2d-4f53-a540-807be76ae869"
      },
      "source": [
        "! sudo pip3 install subword-nmt"
      ],
      "execution_count": null,
      "outputs": [
        {
          "output_type": "stream",
          "name": "stdout",
          "text": [
            "Requirement already satisfied: subword-nmt in /usr/local/lib/python3.7/dist-packages (0.3.7)\n"
          ]
        }
      ]
    },
    {
      "cell_type": "markdown",
      "metadata": {
        "id": "E7Ns3J0tAswd"
      },
      "source": [
        "Preprocessing the Data into Subword BPE Tokens\n",
        "One of the most powerful improvements for agglutinative languages (a feature of most Bantu languages) is using BPE tokenization (Sennrich, 2015) .\n",
        "\n",
        "It was also shown that by optimizing the umber of BPE codes we significantly improve results for low-resourced languages (Sennrich, 2019) (Martinus, 2019)\n",
        "\n",
        "Below we have the scripts for doing BPE tokenization of our data. We use 4000 tokens as recommended by (Sennrich, 2019). You do not need to change anything. Simply running the below will be suitable."
      ]
    },
    {
      "cell_type": "code",
      "metadata": {
        "id": "tt1WS0wtAswd",
        "colab": {
          "base_uri": "https://localhost:8080/"
        },
        "outputId": "860ebe39-c796-41cd-a2d0-8d0586ebe55d"
      },
      "source": [
        "\n",
        "# Do subword NMT\n",
        "from os import path\n",
        "os.environ[\"src\"] = source_language \n",
        "os.environ[\"tgt\"] = target_language\n",
        "\n",
        "# Learn BPEs on the training data.\n",
        "os.environ[\"data_path\"] = path.join(\"joeynmt\", \"data\", source_language + target_language)\n",
        "\n",
        "! subword-nmt learn-joint-bpe-and-vocab --input train.$src train.$tgt -s 4000 -o bpe.codes.4000 --write-vocabulary vocab.$src vocab.$tgt\n",
        "\n",
        "# Apply BPE splits to the development and test data.\n",
        "! subword-nmt apply-bpe -c bpe.codes.4000 --vocabulary vocab.$src < train.$src > train.bpe.$src\n",
        "! subword-nmt apply-bpe -c bpe.codes.4000 --vocabulary vocab.$tgt < train.$tgt > train.bpe.$tgt\n",
        "\n",
        "! subword-nmt apply-bpe -c bpe.codes.4000 --vocabulary vocab.$src < dev.$src > dev.bpe.$src\n",
        "! subword-nmt apply-bpe -c bpe.codes.4000 --vocabulary vocab.$tgt < dev.$tgt > dev.bpe.$tgt\n",
        "! subword-nmt apply-bpe -c bpe.codes.4000 --vocabulary vocab.$src < test.$src > test.bpe.$src\n",
        "! subword-nmt apply-bpe -c bpe.codes.4000 --vocabulary vocab.$tgt < test.$tgt > test.bpe.$tgt\n",
        "\n",
        "! mkdir -p $data_path\n",
        "! cp train.* $data_path\n",
        "! cp test.* $data_path\n",
        "! cp dev.* $data_path\n",
        "! cp bpe.codes.4000 $data_path\n",
        "! ls $data_path\n"
      ],
      "execution_count": null,
      "outputs": [
        {
          "output_type": "stream",
          "name": "stdout",
          "text": [
            "bpe.codes.4000\tdev.en\t     test.bpe.sw  train.bpe.en\ttrain.sw\n",
            "dev.bpe.en\tdev.sw\t     test.en\t  train.bpe.sw\n",
            "dev.bpe.sw\ttest.bpe.en  test.sw\t  train.en\n"
          ]
        }
      ]
    },
    {
      "cell_type": "code",
      "metadata": {
        "id": "DR3P8DbcGVFh"
      },
      "source": [
        ""
      ],
      "execution_count": null,
      "outputs": []
    },
    {
      "cell_type": "code",
      "metadata": {
        "id": "Sjlu7q26Aswe",
        "colab": {
          "base_uri": "https://localhost:8080/"
        },
        "outputId": "dc704132-98a5-4a8f-98af-c28cec9ec47d"
      },
      "source": [
        "#### Build vocabulary file using joeynmt\n",
        "\n",
        "# Create that vocab using build_vocab\n",
        "! sudo chmod 777 joeynmt/scripts/build_vocab.py\n",
        "# ! joeynmt/scripts/build_vocab.py ../data/supervised/$src$tgt/train.bpe.$src ../data/supervised/$src$tgt/train.bpe.$tgt --output_path ../data/supervised/$src$tgt/vocab.txt\n",
        "\n",
        "! joeynmt/scripts/build_vocab.py joeynmt/data/$src$tgt/train.bpe.$src joeynmt/data/$src$tgt/train.bpe.$tgt --output_path joeynmt/data/$src$tgt/vocab.txt\n",
        "\n",
        "! echo \"BPE Swahili Sentences\"\n",
        "! tail -n 5 test.bpe.$tgt\n",
        "! echo \"Combined BPE Vocab\"\n",
        "! tail -n 10 joeynmt/data/$src$tgt/vocab.txt \n"
      ],
      "execution_count": null,
      "outputs": [
        {
          "output_type": "stream",
          "name": "stdout",
          "text": [
            "BPE Swahili Sentences\n",
            "Watu wengi hu@@ chang@@ ia kupitia mt@@ and@@ a@@ oni na m@@ fu@@ ko wa pamoja wa S@@ S@@ F kila m@@ r@@ adi hu@@ jit@@ egem@@ e@@ a.\n",
            "F@@ at@@ en ana@@ hus@@ ika na kur@@ at@@ ibu huduma zinazo@@ tolewa shu@@ l@@ eni mara nyingi nyumbani kwa@@ ke@@ .\n",
            "W@@ ote wat@@ atu hut@@ engene@@ za ti@@ mu ya wat@@ endaji wa@@ kuu na hufanya shughu@@ li zao katika ta@@ as@@ isi isi@@ yo ya kis@@ er@@ ikali pamoja na kazi zao bin@@ af@@ si@@ .\n",
            "Mara kwa mara huwa wanat@@ um@@ i@@ ana picha , vid@@ e@@ o@@ , na z@@ ikiwa na ta@@ ar@@ ifa mpya kwenye kurasa za mit@@ and@@ ao ya ki@@ jamii juu ya S@@ S@@ F@@ .\n",
            "P@@ i@@ a, hus@@ amb@@ aza ma@@ ud@@ hu@@ i yanayo@@ p@@ an@@ ua u@@ elewa kuhusu vita katika nchi ya Y@@ em@@ en@@ , hasa hasa ju@@ kumu la His@@ p@@ ania na nchi nyingine ambazo hus@@ amb@@ aza sil@@ aha zinaz@@ os@@ ababisha mig@@ og@@ oro katika nchi hi@@ yo@@ .Combined BPE Vocab\n",
            "♕\n",
            "‐@@\n",
            "民@@\n",
            "友@@\n",
            "̊\n",
            "̬@@\n",
            "♡@@\n",
            "ƫ@@\n",
            "ĸ@@\n",
            "➊\n"
          ]
        }
      ]
    },
    {
      "cell_type": "code",
      "metadata": {
        "id": "qEcUNKmaiXcV",
        "colab": {
          "base_uri": "https://localhost:8080/"
        },
        "outputId": "19afb222-78c2-4514-f527-d778383d8b06"
      },
      "source": [
        "!readlink -f joeynmt"
      ],
      "execution_count": null,
      "outputs": [
        {
          "output_type": "stream",
          "name": "stdout",
          "text": [
            "/content/joeynmt\n"
          ]
        }
      ]
    },
    {
      "cell_type": "code",
      "metadata": {
        "id": "_UmL4uYBjCiG"
      },
      "source": [
        ""
      ],
      "execution_count": null,
      "outputs": []
    },
    {
      "cell_type": "markdown",
      "metadata": {
        "id": "mKcwNk6jAswe"
      },
      "source": [
        "Creating the JoeyNMT Config\n",
        "JoeyNMT requires a yaml config. \n",
        "\n",
        "We used Transformer architecture\n",
        "We set our dropout to reasonably high: 0.3 (recommended in (Sennrich, 2019))\n",
        "Things worth playing with:\n",
        "\n",
        "The batch size (also recommended to change for low-resourced languages)\n",
        "The number of epochs (we've set it at 30 just so it runs in about an hour, for testing purposes)\n",
        "The decoder options (beam_size, alpha)\n",
        "Evaluation metrics (BLEU versus Crhf4)"
      ]
    },
    {
      "cell_type": "code",
      "metadata": {
        "id": "9Gcz-Nw5Aswf"
      },
      "source": [
        "name = '%s%s' % (source_language, target_language)\n",
        "\n",
        "# Create the config\n",
        "config = \"\"\"\n",
        "name: \"{name}_transformer\"\n",
        "\n",
        "data:\n",
        "    src: \"{source_language}\"\n",
        "    trg: \"{target_language}\"\n",
        "    train: \"/content/joeynmt/data/{name}/train.bpe\"\n",
        "    dev:   \"/content/joeynmt/data/{name}/dev.bpe\"\n",
        "    test:  \"/content/joeynmt/data/{name}/test.bpe\"\n",
        "    level: \"bpe\"\n",
        "    lowercase: False\n",
        "    max_sent_length: 100\n",
        "    src_vocab: \"/content/joeynmt/data/{name}/vocab.txt\"\n",
        "    trg_vocab: \"/content/joeynmt/data/{name}/vocab.txt\"\n",
        "\n",
        "\n",
        "testing:\n",
        "    beam_size: 5\n",
        "    alpha: 1.0\n",
        "\n",
        "training:\n",
        "    random_seed: 42\n",
        "    optimizer: \"adam\"\n",
        "    normalization: \"tokens\"\n",
        "    adam_betas: [0.9, 0.999] \n",
        "    scheduling: \"plateau\"           # TODO: try switching from plateau to Noam scheduling\n",
        "    patience: 5                     # For plateau: decrease learning rate by decrease_factor if validation score has not improved for this many validation rounds.\n",
        "    learning_rate_factor: 0.5       # factor for Noam scheduler (used with Transformer)\n",
        "    learning_rate_warmup: 1000      # warmup steps for Noam scheduler (used with Transformer)\n",
        "    decrease_factor: 0.7\n",
        "    loss: \"crossentropy\"\n",
        "    learning_rate: 0.0003\n",
        "    learning_rate_min: 0.00000001\n",
        "    weight_decay: 0.0\n",
        "    label_smoothing: 0.1\n",
        "    batch_size: 4096\n",
        "    batch_type: \"token\"\n",
        "    eval_batch_size: 3600\n",
        "    eval_batch_type: \"token\"\n",
        "    batch_multiplier: 1\n",
        "    early_stopping_metric: \"ppl\"\n",
        "    epochs: 30                     # TODO: Decrease for when playing around and checking of working. Around 30 is sufficient to check if its working at all\n",
        "    validation_freq: 1000          # TODO: Set to at least once per epoch.\n",
        "    logging_freq: 100\n",
        "    eval_metric: \"bleu\"\n",
        "    model_dir: \"/content/joeynmt/models/{name}_transformer\"\n",
        "    overwrite: True               # TODO: Set to True if you want to overwrite possibly existing models. \n",
        "    shuffle: True\n",
        "    use_cuda: True\n",
        "    max_output_length: 100\n",
        "    print_valid_sents: [0, 1, 2, 3]\n",
        "    keep_last_ckpts: 3\n",
        "\n",
        "model:\n",
        "    initializer: \"xavier\"\n",
        "    bias_initializer: \"zeros\"\n",
        "    init_gain: 1.0\n",
        "    embed_initializer: \"xavier\"\n",
        "    embed_init_gain: 1.0\n",
        "    tied_embeddings: True\n",
        "    tied_softmax: True\n",
        "    encoder:\n",
        "        type: \"transformer\"\n",
        "        num_layers: 6\n",
        "        num_heads: 4             # TODO: Increase to 8 for larger data.\n",
        "        embeddings:\n",
        "            embedding_dim: 256   # TODO: Increase to 512 for larger data.\n",
        "            scale: True\n",
        "            dropout: 0.2\n",
        "        # typically ff_size = 4 x hidden_size\n",
        "        hidden_size: 256         # TODO: Increase to 512 for larger data.\n",
        "        ff_size: 1024            # TODO: Increase to 2048 for larger data.\n",
        "        dropout: 0.3\n",
        "    decoder:\n",
        "        type: \"transformer\"\n",
        "        num_layers: 6\n",
        "        num_heads: 4              # TODO: Increase to 8 for larger data.\n",
        "        embeddings:\n",
        "            embedding_dim: 256    # TODO: Increase to 512 for larger data.\n",
        "            scale: True\n",
        "            dropout: 0.2\n",
        "        # typically ff_size = 4 x hidden_size\n",
        "        hidden_size: 256         # TODO: Increase to 512 for larger data.\n",
        "        ff_size: 1024            # TODO: Increase to 2048 for larger data.\n",
        "        dropout: 0.3\n",
        "\n",
        "\n",
        "\"\"\".format(name=name, data_path=\"joeynmt\", source_language=source_language, target_language=target_language)\n",
        "with open(\"joeynmt/configs/transformer_{name}.yaml\".format(name=name),'w') as f:\n",
        "    f.write(config)"
      ],
      "execution_count": null,
      "outputs": []
    },
    {
      "cell_type": "code",
      "metadata": {
        "id": "WA51HW1FqzvC"
      },
      "source": [
        ""
      ],
      "execution_count": null,
      "outputs": []
    },
    {
      "cell_type": "markdown",
      "metadata": {
        "id": "gKrsm6vTAswf"
      },
      "source": [
        "Train the Model\n",
        "This single line of joeynmt runs the training using the config we made above"
      ]
    },
    {
      "cell_type": "code",
      "metadata": {
        "colab": {
          "base_uri": "https://localhost:8080/"
        },
        "id": "xZ725PF7Aswf",
        "outputId": "89d2f3c3-f965-4c77-d6d4-4b75c6e452cf"
      },
      "source": [
        "# Train the model\n",
        "!cd joeynmt; python -m joeynmt train /content/joeynmt/configs/transformer_$src$tgt.yaml"
      ],
      "execution_count": null,
      "outputs": [
        {
          "metadata": {
            "tags": null
          },
          "name": "stdout",
          "output_type": "stream",
          "text": [
            "2021-10-25 16:18:28,869 - INFO - root - Hello! This is Joey-NMT (version 1.3).\n",
            "2021-10-25 16:18:29,007 - INFO - joeynmt.data - Loading training data...\n",
            "2021-10-25 16:18:53,544 - INFO - joeynmt.data - Building vocabulary...\n",
            "2021-10-25 16:18:53,963 - INFO - joeynmt.data - Loading dev data...\n",
            "2021-10-25 16:18:54,131 - INFO - joeynmt.data - Loading test data...\n",
            "2021-10-25 16:18:54,192 - INFO - joeynmt.data - Data loaded.\n",
            "2021-10-25 16:18:54,192 - INFO - joeynmt.model - Building an encoder-decoder model...\n",
            "2021-10-25 16:18:54,647 - INFO - joeynmt.model - Enc-dec model built.\n",
            "2021-10-25 16:19:00,337 - INFO - joeynmt.training - Total params: 12311808\n",
            "2021-10-25 16:19:00,340 - WARNING - joeynmt.training - `keep_last_ckpts` option is outdated. Please use `keep_best_ckpts`, instead.\n",
            "2021-10-25 16:19:00,341 - INFO - joeynmt.helpers - cfg.name                           : ensw_transformer\n",
            "2021-10-25 16:19:00,341 - INFO - joeynmt.helpers - cfg.data.src                       : en\n",
            "2021-10-25 16:19:00,341 - INFO - joeynmt.helpers - cfg.data.trg                       : sw\n",
            "2021-10-25 16:19:00,341 - INFO - joeynmt.helpers - cfg.data.train                     : /content/joeynmt/data/ensw/train.bpe\n",
            "2021-10-25 16:19:00,341 - INFO - joeynmt.helpers - cfg.data.dev                       : /content/joeynmt/data/ensw/dev.bpe\n",
            "2021-10-25 16:19:00,341 - INFO - joeynmt.helpers - cfg.data.test                      : /content/joeynmt/data/ensw/test.bpe\n",
            "2021-10-25 16:19:00,341 - INFO - joeynmt.helpers - cfg.data.level                     : bpe\n",
            "2021-10-25 16:19:00,341 - INFO - joeynmt.helpers - cfg.data.lowercase                 : False\n",
            "2021-10-25 16:19:00,341 - INFO - joeynmt.helpers - cfg.data.max_sent_length           : 100\n",
            "2021-10-25 16:19:00,341 - INFO - joeynmt.helpers - cfg.data.src_vocab                 : /content/joeynmt/data/ensw/vocab.txt\n",
            "2021-10-25 16:19:00,341 - INFO - joeynmt.helpers - cfg.data.trg_vocab                 : /content/joeynmt/data/ensw/vocab.txt\n",
            "2021-10-25 16:19:00,341 - INFO - joeynmt.helpers - cfg.testing.beam_size              : 5\n",
            "2021-10-25 16:19:00,341 - INFO - joeynmt.helpers - cfg.testing.alpha                  : 1.0\n",
            "2021-10-25 16:19:00,342 - INFO - joeynmt.helpers - cfg.training.random_seed           : 42\n",
            "2021-10-25 16:19:00,342 - INFO - joeynmt.helpers - cfg.training.optimizer             : adam\n",
            "2021-10-25 16:19:00,342 - INFO - joeynmt.helpers - cfg.training.normalization         : tokens\n",
            "2021-10-25 16:19:00,342 - INFO - joeynmt.helpers - cfg.training.adam_betas            : [0.9, 0.999]\n",
            "2021-10-25 16:19:00,342 - INFO - joeynmt.helpers - cfg.training.scheduling            : plateau\n",
            "2021-10-25 16:19:00,342 - INFO - joeynmt.helpers - cfg.training.patience              : 5\n",
            "2021-10-25 16:19:00,342 - INFO - joeynmt.helpers - cfg.training.learning_rate_factor  : 0.5\n",
            "2021-10-25 16:19:00,342 - INFO - joeynmt.helpers - cfg.training.learning_rate_warmup  : 1000\n",
            "2021-10-25 16:19:00,342 - INFO - joeynmt.helpers - cfg.training.decrease_factor       : 0.7\n",
            "2021-10-25 16:19:00,342 - INFO - joeynmt.helpers - cfg.training.loss                  : crossentropy\n",
            "2021-10-25 16:19:00,342 - INFO - joeynmt.helpers - cfg.training.learning_rate         : 0.0003\n",
            "2021-10-25 16:19:00,342 - INFO - joeynmt.helpers - cfg.training.learning_rate_min     : 1e-08\n",
            "2021-10-25 16:19:00,342 - INFO - joeynmt.helpers - cfg.training.weight_decay          : 0.0\n",
            "2021-10-25 16:19:00,342 - INFO - joeynmt.helpers - cfg.training.label_smoothing       : 0.1\n",
            "2021-10-25 16:19:00,342 - INFO - joeynmt.helpers - cfg.training.batch_size            : 4096\n",
            "2021-10-25 16:19:00,342 - INFO - joeynmt.helpers - cfg.training.batch_type            : token\n",
            "2021-10-25 16:19:00,342 - INFO - joeynmt.helpers - cfg.training.eval_batch_size       : 3600\n",
            "2021-10-25 16:19:00,342 - INFO - joeynmt.helpers - cfg.training.eval_batch_type       : token\n",
            "2021-10-25 16:19:00,342 - INFO - joeynmt.helpers - cfg.training.batch_multiplier      : 1\n",
            "2021-10-25 16:19:00,342 - INFO - joeynmt.helpers - cfg.training.early_stopping_metric : ppl\n",
            "2021-10-25 16:19:00,342 - INFO - joeynmt.helpers - cfg.training.epochs                : 30\n",
            "2021-10-25 16:19:00,342 - INFO - joeynmt.helpers - cfg.training.validation_freq       : 1000\n",
            "2021-10-25 16:19:00,343 - INFO - joeynmt.helpers - cfg.training.logging_freq          : 100\n",
            "2021-10-25 16:19:00,343 - INFO - joeynmt.helpers - cfg.training.eval_metric           : bleu\n",
            "2021-10-25 16:19:00,343 - INFO - joeynmt.helpers - cfg.training.model_dir             : /content/joeynmt/models/ensw_transformer\n",
            "2021-10-25 16:19:00,343 - INFO - joeynmt.helpers - cfg.training.overwrite             : True\n",
            "2021-10-25 16:19:00,343 - INFO - joeynmt.helpers - cfg.training.shuffle               : True\n",
            "2021-10-25 16:19:00,343 - INFO - joeynmt.helpers - cfg.training.use_cuda              : True\n",
            "2021-10-25 16:19:00,343 - INFO - joeynmt.helpers - cfg.training.max_output_length     : 100\n",
            "2021-10-25 16:19:00,343 - INFO - joeynmt.helpers - cfg.training.print_valid_sents     : [0, 1, 2, 3]\n",
            "2021-10-25 16:19:00,343 - INFO - joeynmt.helpers - cfg.training.keep_last_ckpts       : 3\n",
            "2021-10-25 16:19:00,343 - INFO - joeynmt.helpers - cfg.model.initializer              : xavier\n",
            "2021-10-25 16:19:00,343 - INFO - joeynmt.helpers - cfg.model.bias_initializer         : zeros\n",
            "2021-10-25 16:19:00,343 - INFO - joeynmt.helpers - cfg.model.init_gain                : 1.0\n",
            "2021-10-25 16:19:00,343 - INFO - joeynmt.helpers - cfg.model.embed_initializer        : xavier\n",
            "2021-10-25 16:19:00,343 - INFO - joeynmt.helpers - cfg.model.embed_init_gain          : 1.0\n",
            "2021-10-25 16:19:00,343 - INFO - joeynmt.helpers - cfg.model.tied_embeddings          : True\n",
            "2021-10-25 16:19:00,343 - INFO - joeynmt.helpers - cfg.model.tied_softmax             : True\n",
            "2021-10-25 16:19:00,343 - INFO - joeynmt.helpers - cfg.model.encoder.type             : transformer\n",
            "2021-10-25 16:19:00,343 - INFO - joeynmt.helpers - cfg.model.encoder.num_layers       : 6\n",
            "2021-10-25 16:19:00,343 - INFO - joeynmt.helpers - cfg.model.encoder.num_heads        : 4\n",
            "2021-10-25 16:19:00,343 - INFO - joeynmt.helpers - cfg.model.encoder.embeddings.embedding_dim : 256\n",
            "2021-10-25 16:19:00,343 - INFO - joeynmt.helpers - cfg.model.encoder.embeddings.scale : True\n",
            "2021-10-25 16:19:00,343 - INFO - joeynmt.helpers - cfg.model.encoder.embeddings.dropout : 0.2\n",
            "2021-10-25 16:19:00,344 - INFO - joeynmt.helpers - cfg.model.encoder.hidden_size      : 256\n",
            "2021-10-25 16:19:00,344 - INFO - joeynmt.helpers - cfg.model.encoder.ff_size          : 1024\n",
            "2021-10-25 16:19:00,344 - INFO - joeynmt.helpers - cfg.model.encoder.dropout          : 0.3\n",
            "2021-10-25 16:19:00,344 - INFO - joeynmt.helpers - cfg.model.decoder.type             : transformer\n",
            "2021-10-25 16:19:00,344 - INFO - joeynmt.helpers - cfg.model.decoder.num_layers       : 6\n",
            "2021-10-25 16:19:00,344 - INFO - joeynmt.helpers - cfg.model.decoder.num_heads        : 4\n",
            "2021-10-25 16:19:00,344 - INFO - joeynmt.helpers - cfg.model.decoder.embeddings.embedding_dim : 256\n",
            "2021-10-25 16:19:00,344 - INFO - joeynmt.helpers - cfg.model.decoder.embeddings.scale : True\n",
            "2021-10-25 16:19:00,344 - INFO - joeynmt.helpers - cfg.model.decoder.embeddings.dropout : 0.2\n",
            "2021-10-25 16:19:00,344 - INFO - joeynmt.helpers - cfg.model.decoder.hidden_size      : 256\n",
            "2021-10-25 16:19:00,344 - INFO - joeynmt.helpers - cfg.model.decoder.ff_size          : 1024\n",
            "2021-10-25 16:19:00,344 - INFO - joeynmt.helpers - cfg.model.decoder.dropout          : 0.3\n",
            "2021-10-25 16:19:00,344 - INFO - joeynmt.helpers - Data set sizes: \n",
            "\ttrain 882966,\n",
            "\tvalid 1000,\n",
            "\ttest 3638\n",
            "2021-10-25 16:19:00,344 - INFO - joeynmt.helpers - First training example:\n",
            "\t[SRC] Our ho@@ st@@ s give us a few things to think about .\n",
            "\t[TRG] Wak@@ arib@@ isha@@ ji wetu wan@@ atu@@ ambia mambo ma@@ chache ya kuf@@ ikiria .\n",
            "2021-10-25 16:19:00,344 - INFO - joeynmt.helpers - First 10 words (src): (0) <unk> (1) <pad> (2) <s> (3) </s> (4) , (5) . (6) the (7) na (8) ya (9) of\n",
            "2021-10-25 16:19:00,344 - INFO - joeynmt.helpers - First 10 words (trg): (0) <unk> (1) <pad> (2) <s> (3) </s> (4) , (5) . (6) the (7) na (8) ya (9) of\n",
            "2021-10-25 16:19:00,344 - INFO - joeynmt.helpers - Number of Src words (types): 4889\n",
            "2021-10-25 16:19:00,345 - INFO - joeynmt.helpers - Number of Trg words (types): 4889\n",
            "2021-10-25 16:19:00,345 - INFO - joeynmt.training - Model(\n",
            "\tencoder=TransformerEncoder(num_layers=6, num_heads=4),\n",
            "\tdecoder=TransformerDecoder(num_layers=6, num_heads=4),\n",
            "\tsrc_embed=Embeddings(embedding_dim=256, vocab_size=4889),\n",
            "\ttrg_embed=Embeddings(embedding_dim=256, vocab_size=4889))\n",
            "2021-10-25 16:19:00,350 - INFO - joeynmt.training - Train stats:\n",
            "\tdevice: cpu\n",
            "\tn_gpu: 0\n",
            "\t16-bits training: False\n",
            "\tgradient accumulation: 1\n",
            "\tbatch size per device: 4096\n",
            "\ttotal batch size (w. parallel & accumulation): 4096\n",
            "2021-10-25 16:19:00,350 - INFO - joeynmt.training - EPOCH 1\n",
            "2021-10-25 16:31:53,169 - INFO - joeynmt.training - Epoch   1, Step:      100, Batch Loss:     5.751052, Tokens per Sec:      188, Lr: 0.000300\n",
            "2021-10-25 16:44:47,264 - INFO - joeynmt.training - Epoch   1, Step:      200, Batch Loss:     5.658021, Tokens per Sec:      191, Lr: 0.000300\n",
            "2021-10-25 16:58:02,785 - INFO - joeynmt.training - Epoch   1, Step:      300, Batch Loss:     5.609179, Tokens per Sec:      185, Lr: 0.000300\n",
            "2021-10-25 17:11:11,882 - INFO - joeynmt.training - Epoch   1, Step:      400, Batch Loss:     5.289597, Tokens per Sec:      188, Lr: 0.000300\n",
            "2021-10-25 17:24:19,085 - INFO - joeynmt.training - Epoch   1, Step:      500, Batch Loss:     5.025804, Tokens per Sec:      187, Lr: 0.000300\n"
          ]
        }
      ]
    },
    {
      "cell_type": "markdown",
      "metadata": {
        "id": "3cQepKeNAswg"
      },
      "source": [
        "A large part of this notebook was adopted from the Masakhane starter notebook."
      ]
    },
    {
      "cell_type": "code",
      "metadata": {
        "id": "Qgl6RHffaOxz"
      },
      "source": [
        ""
      ],
      "execution_count": null,
      "outputs": []
    }
  ]
}